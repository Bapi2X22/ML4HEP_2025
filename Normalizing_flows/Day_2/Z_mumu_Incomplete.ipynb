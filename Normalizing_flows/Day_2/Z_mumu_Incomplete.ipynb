{
  "cells": [
    {
      "cell_type": "code",
      "execution_count": 17,
      "metadata": {
        "id": "gLfLJMCjHG7r"
      },
      "outputs": [],
      "source": [
        "# !pip uninstall normflows\n",
        "# !pip install nflows\n"
      ]
    },
    {
      "cell_type": "code",
      "execution_count": 18,
      "metadata": {
        "id": "V7wJ4mSUHTX9"
      },
      "outputs": [],
      "source": [
        "import torch\n",
        "import numpy as np\n",
        "import matplotlib.pyplot as plt\n",
        "from scipy.stats import chi2, kstest\n",
        "import normflows as nf\n",
        "import json\n",
        "import torch\n",
        "import torch.nn as nn\n",
        "# from nflows.flows.base import Flow\n",
        "# from nflows.transforms.autoregressive import MaskedAutoregressiveTransform\n",
        "# from nflows.transforms import CompositeTransform\n",
        "# from nflows.distributions import StandardNormal\n",
        "# from nflows.nn.nets import ResidualNet\n",
        "# from nflows.transforms.splines import RationalQuadraticSpline, rational_quadratic_spline\n",
        "# from nflows.nn.nets.autoregressive import MaskedPiecewiseRationalQuadraticAutoregressiveTransform"
      ]
    },
    {
      "cell_type": "code",
      "execution_count": 19,
      "metadata": {
        "id": "Y0pGUiKzIjTR"
      },
      "outputs": [],
      "source": [
        "filename=\"Zmumu.json\"\n",
        "with open(filename, 'r') as file:\n",
        "    data = json.load(file)"
      ]
    },
    {
      "cell_type": "code",
      "execution_count": 20,
      "metadata": {
        "id": "2iMye5cWIwAf"
      },
      "outputs": [],
      "source": [
        "data2=np.array(data)"
      ]
    },
    {
      "cell_type": "code",
      "execution_count": 21,
      "metadata": {
        "id": "KhICWb60JWgg"
      },
      "outputs": [],
      "source": [
        "mean = data2.mean(axis=0)\n",
        "std = data2.std(axis=0)\n",
        "data_std = (data2 - mean) / std\n",
        "\n",
        "X = torch.tensor(data_std, dtype=torch.float32)"
      ]
    },
    {
      "cell_type": "code",
      "execution_count": 22,
      "metadata": {},
      "outputs": [],
      "source": [
        "from torch.utils.data import DataLoader, TensorDataset\n",
        "\n",
        "# Assuming you have your data in a NumPy array X of shape (N, input_dim)\n",
        "# or a PyTorch tensor\n",
        "\n",
        "# Example: create random data (replace with your real data)\n",
        "import numpy as np\n",
        "X = np.random.rand(10000, 5).astype(np.float32)\n",
        "\n",
        "# Convert to PyTorch tensor\n",
        "X_tensor = torch.tensor(X)\n",
        "\n",
        "# Create dataset and dataloader\n",
        "dataset = TensorDataset(X_tensor)\n",
        "dataloader = DataLoader(dataset, batch_size=128, shuffle=True)"
      ]
    },
    {
      "cell_type": "code",
      "execution_count": 23,
      "metadata": {},
      "outputs": [
        {
          "data": {
            "text/plain": [
              "['ActNorm',\n",
              " 'AffineConstFlow',\n",
              " 'AffineCoupling',\n",
              " 'AffineCouplingBlock',\n",
              " 'AutoregressiveRationalQuadraticSpline',\n",
              " 'BatchNorm',\n",
              " 'CCAffineConst',\n",
              " 'CircularAutoregressiveRationalQuadraticSpline',\n",
              " 'CircularCoupledRationalQuadraticSpline',\n",
              " 'Composite',\n",
              " 'CoupledRationalQuadraticSpline',\n",
              " 'Flow',\n",
              " 'GlowBlock',\n",
              " 'HamiltonianMonteCarlo',\n",
              " 'Invertible1x1Conv',\n",
              " 'InvertibleAffine',\n",
              " 'LULinearPermute',\n",
              " 'MaskedAffineAutoregressive',\n",
              " 'MaskedAffineFlow',\n",
              " 'Merge',\n",
              " 'MetropolisHastings',\n",
              " 'PeriodicShift',\n",
              " 'PeriodicWrap',\n",
              " 'Permute',\n",
              " 'Planar',\n",
              " 'Radial',\n",
              " 'Residual',\n",
              " 'Reverse',\n",
              " 'Split',\n",
              " 'Squeeze',\n",
              " '__builtins__',\n",
              " '__cached__',\n",
              " '__doc__',\n",
              " '__file__',\n",
              " '__loader__',\n",
              " '__name__',\n",
              " '__package__',\n",
              " '__path__',\n",
              " '__spec__',\n",
              " 'affine',\n",
              " 'base',\n",
              " 'mixing',\n",
              " 'neural_spline',\n",
              " 'normalization',\n",
              " 'periodic',\n",
              " 'planar',\n",
              " 'radial',\n",
              " 'reshape',\n",
              " 'residual',\n",
              " 'stochastic']"
            ]
          },
          "execution_count": 23,
          "metadata": {},
          "output_type": "execute_result"
        }
      ],
      "source": [
        "dir(nf.flows)"
      ]
    },
    {
      "cell_type": "code",
      "execution_count": 24,
      "metadata": {
        "id": "_1SIRWNKKFyz"
      },
      "outputs": [],
      "source": [
        "dim = X.shape[1]  # Assuming X is a 2D tensor with shape (num_samples, num_features)\n",
        "\n",
        "import torch\n",
        "import torch.nn as nn\n",
        "import normflows as nf\n",
        "\n",
        "# Define input dimensionality\n",
        "input_dim = dim  # Replace with actual input dimension\n",
        "num_layers = 8\n",
        "hidden_units = 32\n",
        "num_bins = 12\n",
        "\n",
        "# Base distribution (Standard Gaussian)\n",
        "q0 = nf.distributions.base.DiagGaussian(input_dim)\n",
        "\n",
        "# Create list of flows (using Neural Spline Flow - autoregressive)\n",
        "flows = []\n",
        "\n",
        "for _ in range(num_layers):\n",
        "    flows.append(\n",
        "        nf.flows.AutoregressiveRationalQuadraticSpline(\n",
        "            num_input_channels=input_dim,\n",
        "            num_hidden_channels = hidden_units,\n",
        "            num_blocks=2,\n",
        "            num_bins=num_bins,\n",
        "            tail_bound=1.0,\n",
        "            activation=nn.ReLU,\n",
        "            dropout_probability=0.0\n",
        "            # tails='linear',\n",
        "        )\n",
        "    )\n",
        "\n",
        "\n"
      ]
    },
    {
      "cell_type": "code",
      "execution_count": 25,
      "metadata": {
        "id": "hihiD74DK1X_"
      },
      "outputs": [],
      "source": [
        "model = nf.NormalizingFlow(q0, flows)"
      ]
    },
    {
      "cell_type": "code",
      "execution_count": 26,
      "metadata": {
        "id": "Lrz9eobyM965"
      },
      "outputs": [],
      "source": [
        "# enable_cuda = True\n",
        "# device = torch.device('cuda' if torch.cuda.is_available() and enable_cuda else 'cpu')\n",
        "device = 'cpu'\n",
        "model = model.to(device)"
      ]
    },
    {
      "cell_type": "code",
      "execution_count": 27,
      "metadata": {
        "id": "eDcelYRCmHqZ"
      },
      "outputs": [
        {
          "name": "stdout",
          "output_type": "stream",
          "text": [
            "Epoch 0, Loss: 2.1685\n"
          ]
        }
      ],
      "source": [
        "# #Write the training code here.\n",
        "# # Define optimizer and loss function\n",
        "# optimizer = torch.optim.Adam(model.parameters(), lr=1e-3)\n",
        "# loss_fn = nf.losses.MeanSquaredError()\n",
        "# # loss_fn = -model.log_prob(x).mean()\n",
        "\n",
        "# # Training loop\n",
        "# num_epochs = 1000\n",
        "# batch_size = 128\n",
        "# num_batches = len(X) // batch_size  \n",
        "# for epoch in range(num_epochs):\n",
        "#     model.train()\n",
        "#     for i in range(num_batches):\n",
        "#         batch = X[i * batch_size:(i + 1) * batch_size].to(device)\n",
        "#         optimizer.zero_grad()\n",
        "#         loss = loss_fn(model, batch)\n",
        "#         loss.backward()\n",
        "#         optimizer.step()\n",
        "    \n",
        "#     if (epoch + 1) % 100 == 0:\n",
        "#         print(f'Epoch [{epoch + 1}/{num_epochs}], Loss: {loss.item():.4f}')\n",
        "# # Save the trained model\n",
        "# torch.save(model.state_dict(), 'trained_model.pth') \n",
        "\n",
        "# Define optimizer\n",
        "optimizer = torch.optim.Adam(model.parameters(), lr=1e-3)\n",
        "\n",
        "# Training loop\n",
        "num_epochs = 20\n",
        "for epoch in range(num_epochs):\n",
        "    for x_batch in dataloader:  # Assuming you have a DataLoader\n",
        "        # x_batch = x_batch.to(device)  # Optional: move to GPU\n",
        "        # x_batch = x_batch.to(device)\n",
        "        x_batch = x_batch[0].to(device)\n",
        "\n",
        "\n",
        "\n",
        "        optimizer.zero_grad()\n",
        "        \n",
        "        # Log probability under the model\n",
        "        log_prob = model.log_prob(x_batch)\n",
        "\n",
        "        # Negative log-likelihood loss\n",
        "        loss = -log_prob.mean()\n",
        "\n",
        "        loss.backward()\n",
        "        optimizer.step()\n",
        "\n",
        "    if epoch % 50 == 0:\n",
        "        print(f\"Epoch {epoch}, Loss: {loss.item():.4f}\")\n"
      ]
    },
    {
      "cell_type": "code",
      "execution_count": 28,
      "metadata": {
        "id": "P6OxEwAsOIQO"
      },
      "outputs": [],
      "source": [
        "with torch.no_grad():\n",
        "    beta = model.inverse(X_tensor).numpy()\n",
        "    norms_sq = np.sum(beta**2, axis=1)"
      ]
    },
    {
      "cell_type": "code",
      "execution_count": 29,
      "metadata": {
        "id": "cIbf7sY0Ok_X"
      },
      "outputs": [],
      "source": [
        "K = 11  # total bins\n",
        "dof = 5\n",
        "bin_edges = chi2.ppf(np.linspace(0, 1, K + 1), df=dof)\n",
        "\n",
        "\n",
        "hist, _ = np.histogram(norms_sq, bins=bin_edges)\n",
        "hist = hist[:10]\n",
        "bin_edges = bin_edges[:11]  # only first 10 edges (10 bins)\n",
        "\n",
        "bin_centers = 0.5 * (bin_edges[1:] + bin_edges[:-1])\n",
        "bin_widths = np.diff(bin_edges)\n",
        "\n",
        "# Normalized density\n",
        "N = len(norms_sq)\n",
        "hist_density = hist / (bin_widths * N)\n",
        "errors = np.sqrt(hist) / (bin_widths * N)\n",
        "\n",
        "# Expected from χ²\n",
        "expected_density = chi2.pdf(bin_centers, dof)\n",
        "expected_counts = (chi2.cdf(bin_edges[1:], dof) - chi2.cdf(bin_edges[:-1], dof)) * N"
      ]
    },
    {
      "cell_type": "code",
      "execution_count": 30,
      "metadata": {
        "id": "dimxLgYETiM6"
      },
      "outputs": [
        {
          "data": {
            "image/png": "[encoded data removed]",
            "text/plain": [
              "<Figure size 800x600 with 2 Axes>"
            ]
          },
          "metadata": {},
          "output_type": "display_data"
        }
      ],
      "source": [
        "fig, (ax1, ax2) = plt.subplots(2, 1, figsize=(8, 6), gridspec_kw={'height_ratios': [3, 1]})\n",
        "\n",
        "\n",
        "xerr = bin_widths / 2\n",
        "ax1.errorbar(\n",
        "    bin_centers,\n",
        "    hist_density,\n",
        "    yerr=errors,\n",
        "    xerr=xerr,\n",
        "    fmt='o',\n",
        "    label='Transformed samples',\n",
        "    capsize=3\n",
        ")\n",
        "x = np.linspace(0, 20, 1000)\n",
        "ax1.plot(x, chi2.pdf(x, dof), 'r-', label=f\"$\\chi^2$(df={dof})\")\n",
        "ax1.set_yscale('log')\n",
        "ax1.set_ylabel('Density')\n",
        "ax1.set_title('Distribution of $||\\\\vec{\\\\beta}||^2$ (first 10 bins)')\n",
        "ax1.legend()\n",
        "\n",
        "\n",
        "residuals = hist - expected_counts\n",
        "significance = residuals / np.sqrt(expected_counts)\n",
        "\n",
        "ax2.bar(bin_centers, significance, width=bin_widths, color='gray', edgecolor='black')\n",
        "for y in [-2, -1, 1, 2]:\n",
        "    ax2.axhline(y, linestyle='--', color='red' if abs(y) == 2 else 'gold')\n",
        "ax2.set_ylabel('Residuals (σ)')\n",
        "ax2.set_xlabel(r\"$\\|\\vec{\\beta}\\|^2$\")\n",
        "ax2.set_xlim(0, 20)\n",
        "\n",
        "plt.tight_layout()\n",
        "plt.show()"
      ]
    }
  ],
  "metadata": {
    "colab": {
      "provenance": []
    },
    "kernelspec": {
      "display_name": "temporary",
      "language": "python",
      "name": "python3"
    },
    "language_info": {
      "codemirror_mode": {
        "name": "ipython",
        "version": 3
      },
      "file_extension": ".py",
      "mimetype": "text/x-python",
      "name": "python",
      "nbconvert_exporter": "python",
      "pygments_lexer": "ipython3",
      "version": "3.9.22"
    }
  },
  "nbformat": 4,
  "nbformat_minor": 0
}
