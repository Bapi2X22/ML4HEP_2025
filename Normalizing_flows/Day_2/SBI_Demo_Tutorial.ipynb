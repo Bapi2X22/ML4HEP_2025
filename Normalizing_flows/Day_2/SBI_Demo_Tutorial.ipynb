{
  "cells": [
    {
      "cell_type": "code",
      "source": [
        "!pip install sbi"
      ],
      "metadata": {
        "id": "9xG7Uc7369ys"
      },
      "id": "9xG7Uc7369ys",
      "execution_count": null,
      "outputs": []
    },
    {
      "cell_type": "code",
      "execution_count": null,
      "id": "d8b70c9a",
      "metadata": {
        "id": "d8b70c9a"
      },
      "outputs": [],
      "source": [
        "import torch\n",
        "\n",
        "from sbi import analysis as analysis\n",
        "from sbi import utils as utils\n",
        "from sbi.inference import NPE, simulate_for_sbi\n",
        "from sbi.utils.user_input_checks import (\n",
        "    check_sbi_inputs,\n",
        "    process_prior,\n",
        "    process_simulator,\n",
        ")"
      ]
    },
    {
      "cell_type": "code",
      "execution_count": null,
      "id": "141048ba",
      "metadata": {
        "id": "141048ba"
      },
      "outputs": [],
      "source": [
        "num_dim = 3\n",
        "prior = utils.BoxUniform(low=-2 * torch.ones(num_dim), high=2 * torch.ones(num_dim))\n",
        "\n",
        "def simulator(theta):\n",
        "    # linear gaussian\n",
        "    return theta + 1.0 + torch.randn_like(theta) * 0.1\n",
        "\n",
        "# Check prior, simulator, consistency\n",
        "prior, num_parameters, prior_returns_numpy = process_prior(prior)\n",
        "simulator = process_simulator(simulator, prior, prior_returns_numpy)\n",
        "check_sbi_inputs(simulator, prior)"
      ]
    },
    {
      "cell_type": "code",
      "execution_count": null,
      "id": "de1be3bb",
      "metadata": {
        "id": "de1be3bb"
      },
      "outputs": [],
      "source": [
        "# Create inference object. Here, NPE is used.\n",
        "inference = NPE(prior=prior)\n",
        "\n",
        "# generate simulations and pass to the inference object\n",
        "theta, x = simulate_for_sbi(simulator, proposal=prior, num_simulations=2000)\n",
        "inference = inference.append_simulations(theta, x)\n",
        "\n",
        "# train the density estimator and build the posterior\n",
        "density_estimator = inference.train()\n",
        "posterior = inference.build_posterior(density_estimator)"
      ]
    },
    {
      "cell_type": "code",
      "execution_count": null,
      "id": "323322f9",
      "metadata": {
        "id": "323322f9"
      },
      "outputs": [],
      "source": [
        "# generate the first observation\n",
        "theta_1 = prior.sample((1,))\n",
        "x_obs_1 = simulator(theta_1)\n",
        "# now generate a second observation\n",
        "theta_2 = prior.sample((1,))\n",
        "x_obs_2 = simulator(theta_2)"
      ]
    },
    {
      "cell_type": "code",
      "execution_count": null,
      "id": "92610ec5",
      "metadata": {
        "id": "92610ec5"
      },
      "outputs": [],
      "source": [
        "posterior_samples_1 = posterior.sample((10000,), x=x_obs_1)\n",
        "\n",
        "# plot posterior samples\n",
        "_ = analysis.pairplot(\n",
        "    posterior_samples_1, limits=[[-2, 2], [-3, 3], [-2, 3]], figsize=(5, 5),\n",
        "    labels=[r\"$\\theta_1$\", r\"$\\theta_2$\", r\"$\\theta_3$\"],\n",
        "    points=theta_1 # add ground truth thetas\n",
        ")"
      ]
    },
    {
      "cell_type": "code",
      "execution_count": null,
      "id": "86db43e1",
      "metadata": {
        "id": "86db43e1"
      },
      "outputs": [],
      "source": [
        "posterior_samples_2 = posterior.sample((10000,), x=x_obs_2)\n",
        "\n",
        "# plot posterior samples\n",
        "_ = analysis.pairplot(\n",
        "    posterior_samples_1, limits=[[-2, 2], [-2, 2], [-2, 3]], figsize=(5, 5),\n",
        "    labels=[r\"$\\theta_1$\", r\"$\\theta_2$\", r\"$\\theta_3$\"],\n",
        "    points=theta_2 # add ground truth thetas\n",
        ")"
      ]
    },
    {
      "cell_type": "code",
      "execution_count": null,
      "id": "98d900b9",
      "metadata": {
        "id": "98d900b9"
      },
      "outputs": [],
      "source": [
        "posterior_samples_2.mean(dim=0)"
      ]
    },
    {
      "cell_type": "code",
      "execution_count": null,
      "id": "9cdf1705",
      "metadata": {
        "id": "9cdf1705"
      },
      "outputs": [],
      "source": [
        "theta_2"
      ]
    },
    {
      "cell_type": "markdown",
      "source": [
        "**Do not Run beyond This Point.**"
      ],
      "metadata": {
        "id": "8lZI9NQJi_de"
      },
      "id": "8lZI9NQJi_de"
    },
    {
      "cell_type": "markdown",
      "source": [
        "In addition to the ${\\rm SU(2)_L}$ Higgs doublet ($\\Phi$), Type-II Seesaw mechanism introduces an additional scalar triplet ($\\Delta$) under the same gauge group with hypercharge $2$ (under the convention $Q=T_3+\\frac{Y}{2}$).\n",
        "\\begin{equation}\n",
        "\\Phi = \\begin{pmatrix}\n",
        "\\phi^+  \\\\[8pt]\n",
        "\\phi^0\n",
        "\\end{pmatrix};    \n",
        "\\hspace{1cm}\n",
        "\\Delta= \\begin{pmatrix}\n",
        "\\frac{1}{\\sqrt{2}}\\Delta^{+} & \\Delta^{++} \\\\[8pt]\n",
        "\\Delta^0 & -\\frac{1}{\\sqrt{2}}\\Delta^{+}\n",
        "\\end{pmatrix}  \n",
        "\\end{equation}\n",
        "The scalar potential can be written as\n",
        "\\begin{align}\n",
        "V(\\Phi, & \\Delta) \\nonumber\\\\\n",
        "&= -m^2_{\\Phi} \\Phi^{\\dagger}\\Phi + m^2_{\\Delta}{\\rm Tr}\\Delta^{\\dagger}\\Delta + \\left(\\mu_1\\Phi^Ti\\sigma^2\\Delta^{\\dagger}\\Phi + {\\rm h.c}\\right) \\nonumber\\\\\n",
        "&+ \\frac{\\lambda}{4} (\\Phi^{\\dagger}\\Phi)^2 + \\lambda_1\\Phi^{\\dagger}\\Phi {\\rm Tr}\\Delta^{\\dagger}\\Delta + \\lambda_2 ({\\rm Tr}\\Delta^{\\dagger}\\Delta)^2 \\nonumber\\\\\n",
        "&+ \\lambda_3{\\rm Tr}(\\Delta^{\\dagger}\\Delta)^2 + \\lambda_4\\Phi^{\\dagger}\\Delta\\Delta^{\\dagger}\\Phi\\,.\n",
        "\\end{align}\n",
        "Here $\\sigma^2$ indicates the second Pauli matrix. $\\mu_1$ is a trilinear coupling, whereas, $\\lambda$ and $\\lambda_i~(i=1,2,3,4)$ represent the quartic couplings. After electroweak symmetry breaking $\\Phi$ and $\\Delta$ acquire VEVs $\\frac{v_d}{\\sqrt{2}}$ and $\\frac{v_T}{\\sqrt{2}}$ respectively, with the total electroweak VEV given by $v=\\sqrt{v_d^2 + 2v_T^2}$. The parameters $m^2_{\\Phi}$ and $m^2_{\\Delta}$ are not independent. They can be determined in terms of other free parameters using the tadpole equations:\n",
        "\\begin{eqnarray}\n",
        "m^2_{\\Phi} = \\frac{\\lambda_1 + \\lambda_4}{2}v_T^2 - \\sqrt{2}\\mu_1v_T + \\frac{\\lambda}{4}v_d^2 \\nonumber \\\\\n",
        "m^2_{\\Delta} = - \\frac{\\lambda_1 + \\lambda_4}{2}v_d^2 + \\frac{v_d^2\\mu_1}{\\sqrt{2}v_T} - (\\lambda_2 + \\lambda_3) v_T^2.\n",
        "\\end{eqnarray}\n",
        "\n",
        "In the presence of the triplet VEV, at the tree level, the $W$ and $Z$ boson masses can be written as\n",
        "\\begin{eqnarray}\n",
        "m_W = \\sqrt{\\frac{g^2}{4} (v_d^2 + 2v_T^2)} \\nonumber \\\\\n",
        "m_Z = \\sqrt{\\frac{g^2+g^{\\prime 2}}{4}(v_d^2 + 2v_T^2)}\n",
        "\\end{eqnarray}\n",
        "where the $g$ and $g^{\\prime}$ represent gauge couplings corresponding to ${\\rm SU(2)_L}$ and ${ U(1)_Y}$ respectively.  The $\\rho$-parameter can be written as\n",
        "\\begin{eqnarray}\n",
        "\\rho = 1 - \\frac{2v_T^2}{v_d^2 + 4v_T^2}    \n",
        "\\end{eqnarray}\n",
        "Unless $v_T << v_d$, the $\\rho$-parameter is affected, and given that it is very precisely measured, one can restrict the triplet VEV from above effectively using this measurement.\n",
        "\n",
        "In the scalar sector, the neutral CP-even states can have considerably large mixing depending on the choices of new physics parameters. The mass-squared matrix at the tree level can be written as\n",
        "\n",
        "\\begin{eqnarray}\n",
        "m^2_{\\rm CP-even} = \\begin{pmatrix}\n",
        "\\frac{\\lambda}{2}v_d^2 & -\\sqrt{2}\\mu_1 v_d + (\\lambda_1 + \\lambda_4)v_T v_d \\\\\n",
        "-\\sqrt{2}\\mu_1 v_d + (\\lambda_1 + \\lambda_4)v_T v_d & \\frac{\\mu_1 v_d^2}{\\sqrt{2}v_T} + 2(\\lambda_2 + \\lambda_3)v_T^2\n",
        "\\end{pmatrix}   \n",
        "\\end{eqnarray}\n",
        "\n",
        "However, a large mixing between the CP-even states is disfavoured from the 125 GeV Higgs data. The mixing angle ($\\alpha$) is given as\n",
        "\\begin{eqnarray}\n",
        "\\tan 2\\alpha = \\frac{2(\\lambda_1 + \\lambda_4)v_Tv_d - 2\\sqrt{2}v_d\\mu_1}{\\frac{\\lambda v_d^2}{2}-\\frac{\\mu_1v_d^2}{\\sqrt{2}v_T}-2(\\lambda_2+\\lambda_3)v_T^2}    \n",
        "\\end{eqnarray}\n",
        "\n",
        "The mixing angle between CP-odd states on the other hand is small unless $v_T\\sim v_d$. The mass-squared matrix at the tree level can be written as\n",
        " \\begin{eqnarray}\n",
        "m^2_{\\rm CP-odd} = \\begin{pmatrix}\n",
        "2\\sqrt{2}\\mu_1 v_T & -\\sqrt{2}\\mu_1 v_d \\\\\n",
        "-\\sqrt{2}\\mu_1 v_d  & \\frac{\\mu_1 v_d^2}{\\sqrt{2}v_T}\n",
        "\\end{pmatrix}    \n",
        "\\end{eqnarray}\n",
        "Upon diagonalization, one obtains the only massive CP-odd scalar mass to be $m^2_A=\\frac{\\mu}{\\sqrt{2}v_T}(v_d^2 + 4v_T^2)$. The charged scalar mass matrix can be written as\n",
        "\n",
        "\\begin{align}\n",
        "    m^2&_{\\rm Charged-higgs} = \\nonumber\\\\\n",
        "    &\\begin{pmatrix}\n",
        "        \\sqrt{2}\\mu_1 v_T - \\frac{\\lambda_4}{2}v_T^2 & -\\mu_1 v_d + \\frac{\\sqrt{2}}{4}\\lambda_4v_T v_d \\\\\n",
        "        -\\mu_1 v_d + \\frac{\\sqrt{2}}{4}\\lambda_4v_T v_d & \\frac{\\mu_1 v_d^2}{\\sqrt{2}v_T} - \\lambda_4v_d^2\n",
        "    \\end{pmatrix}    \n",
        "\\end{align}\n",
        "\n",
        "with the charged Higgs mass\n",
        "\\begin{eqnarray}\n",
        "  m^2_{h^{\\pm}}=\\frac{2\\sqrt{2}\\mu_1 - \\lambda_4v_T}{4v_T}(v_d^2+2v_T^2)\\,.  \n",
        "\\end{eqnarray}\n"
      ],
      "metadata": {
        "id": "4Hh87CN_Q7Fw"
      },
      "id": "4Hh87CN_Q7Fw"
    },
    {
      "cell_type": "markdown",
      "source": [
        "consider $\\lambda, \\lambda_1, \\lambda_2, \\lambda_3, \\lambda_4, \\mu, v_T$ to be free parameters.$v_d$ will be related to $v_T$, considering $v=256$ GeV. Write down the simulator $\\texttt{T2SSObs}(params)$. The observables are $m_h$, $m_A$, $tan(2 \\alpha)$"
      ],
      "metadata": {
        "id": "lH1PbFWHR_sU"
      },
      "id": "lH1PbFWHR_sU"
    },
    {
      "cell_type": "code",
      "source": [
        "def T2SSObs_batch(params: torch.Tensor) -> torch.Tensor:\n",
        "    \"\"\"\n",
        "    params: Tensor of shape (N, 7) where each row is\n",
        "            [lambda, lambda1, lambda2, lambda3, lambda4, mu, v_T]\n",
        "    Returns: Tensor of shape (N, 3) with [m_h, m_A, tan(2α)] for each sample\n",
        "    \"\"\"\n",
        "\n",
        "\n",
        "\n",
        "    # Add Gaussian noise to simulate observational uncertainty\n",
        "    noise = torch.randn_like(obs) * 0.4\n",
        "    return obs + noise"
      ],
      "metadata": {
        "id": "GRaqiab59FWM"
      },
      "id": "GRaqiab59FWM",
      "execution_count": null,
      "outputs": []
    },
    {
      "cell_type": "code",
      "source": [
        "num_dim = 7\n",
        "prior = utils.BoxUniform(low=torch.Tensor([0.0, 2.0, 0.0, -15.0,-3.0, 0.0, 0.5]), high=torch.Tensor([0.2, 4.0, 10.0, 0.0, 0.0, 20.0, 2.5]))"
      ],
      "metadata": {
        "id": "rm1z4DcLTS2z"
      },
      "id": "rm1z4DcLTS2z",
      "execution_count": null,
      "outputs": []
    },
    {
      "cell_type": "code",
      "source": [
        "# Check prior, simulator, consistency\n",
        "prior, num_parameters, prior_returns_numpy = process_prior(prior)\n",
        "simulator = process_simulator(T2SSObs_batch, prior, prior_returns_numpy)\n",
        "check_sbi_inputs(T2SSObs_batch, prior)"
      ],
      "metadata": {
        "id": "O90ptIILVle7"
      },
      "id": "O90ptIILVle7",
      "execution_count": null,
      "outputs": []
    },
    {
      "cell_type": "code",
      "source": [
        "# Create inference object. Here, NPE is used.\n",
        "inference = NPE(prior=prior, density_estimator=)\n",
        "\n",
        "# generate simulations and pass to the inference object\n",
        "theta, x = simulate_for_sbi(T2SSObs_batch, proposal=prior, num_simulations=4000)\n",
        "inference = inference.append_simulations(theta, x)\n",
        "\n",
        "# train the density estimator and build the posterior\n",
        "density_estimator = inference.train()\n",
        "posteriorT2SS = inference.build_posterior(density_estimator)"
      ],
      "metadata": {
        "id": "0uAQK0rMVzHe"
      },
      "id": "0uAQK0rMVzHe",
      "execution_count": null,
      "outputs": []
    },
    {
      "cell_type": "markdown",
      "source": [
        "Let's say, it is 2030, and we observe a have observed many new scalar, charged and neutral with masses and mixing angles:\n",
        "$m_h$ = 600,\n",
        "$m_A$ = 200,\n",
        "$tan(2\\alpha)$  = 0.012"
      ],
      "metadata": {
        "id": "2RtLD8nDWioP"
      },
      "id": "2RtLD8nDWioP"
    },
    {
      "cell_type": "code",
      "source": [
        "x_obs = torch.tensor([600, 200, 0.012])"
      ],
      "metadata": {
        "id": "NokChy7fWYE4"
      },
      "id": "NokChy7fWYE4",
      "execution_count": null,
      "outputs": []
    },
    {
      "cell_type": "code",
      "source": [
        "posterior_samples =\n",
        "\n",
        "# plot posterior samples\n",
        "_ = analysis.pairplot(\n",
        "    posterior_samples,\n",
        "    limits=[[  -1. ,   0.5],\n",
        "       [  1 ,   5. ],\n",
        "       [  -1. ,  11. ],\n",
        "       [-16. ,   1. ],\n",
        "       [ -4. ,   2. ],\n",
        "       [  0. ,  40. ],\n",
        "       [  0.5,   2.5]],\n",
        "    figsize=(7, 7),\n",
        "    labels = [r\"$\\lambda$\", r\"$\\lambda_1$\", r\"$\\lambda_2$\", r\"$\\lambda_3$\", r\"$\\lambda_4$\", r\"$\\mu$\", r\"$v_T$\"]\n",
        "    #points=theta_1 # add ground truth thetas\n",
        ")"
      ],
      "metadata": {
        "id": "Hy3fMRQxWH4r"
      },
      "id": "Hy3fMRQxWH4r",
      "execution_count": null,
      "outputs": []
    },
    {
      "cell_type": "code",
      "source": [],
      "metadata": {
        "id": "cEOO8Z6tebGX"
      },
      "id": "cEOO8Z6tebGX",
      "execution_count": null,
      "outputs": []
    }
  ],
  "metadata": {
    "kernelspec": {
      "display_name": "Python 3 (ipykernel)",
      "language": "python",
      "name": "python3"
    },
    "language_info": {
      "codemirror_mode": {
        "name": "ipython",
        "version": 3
      },
      "file_extension": ".py",
      "mimetype": "text/x-python",
      "name": "python",
      "nbconvert_exporter": "python",
      "pygments_lexer": "ipython3",
      "version": "3.10.18"
    },
    "colab": {
      "provenance": []
    }
  },
  "nbformat": 4,
  "nbformat_minor": 5
}