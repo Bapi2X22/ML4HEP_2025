{
 "cells": [
  {
   "cell_type": "code",
   "execution_count": 110,
   "metadata": {},
   "outputs": [],
   "source": [
    "### Code written by Sambit Sarkar as a part of the ML+statistics course in DHEP, TIFR\n",
    "\n",
    "### based on this paper: https://www.sciencedirect.com/science/article/pii/S0370269311010835?via%3Dihub"
   ]
  },
  {
   "cell_type": "markdown",
   "metadata": {},
   "source": [
    "# Theory"
   ]
  },
  {
   "cell_type": "markdown",
   "metadata": {},
   "source": [
    "We have already learnt in lectures that the profile likelihood ratio is extremely useful for constructing hypothesis testing parameter. This ratio is simply,\n",
    "\\begin{equation}\n",
    "\\lambda(\\mu) = \\frac{L(\\mu,\\hat{\\hat{\\theta}})}{L(\\hat{\\mu},\\hat{\\theta})}\\tag{1}\n",
    "\\end{equation}\n",
    "where $L$ is the likelihood function and $\\hat{\\hat{\\theta}}$ is the conditional maximum likelihood estimator of $\\theta$ while $\\hat{\\theta}$ is the unconditional maximized likelihood estimator. The best test statistic for upper limit can be found using this as,\n",
    "\\begin{equation}\n",
    "q_\\mu = \\begin{cases}-2\\ln[\\lambda(\\mu)], & \\hat{\\mu}\\leq\\mu\\\\\n",
    "0, & \\hat{\\mu}>\\mu\\end{cases}\\tag{2}\n",
    "\\end{equation}\n",
    "\n",
    "We shall assume a poisson signal + background so that the likelihood function  with the nuisance parameter becomes,\n",
    "\\begin{equation}\n",
    "L(\\mu,b) = \\frac{(\\mu s+b)^n}{n!}e^{-(\\mu s+b)}\\frac{(\\tau b)^m}{m!}e^{-\\tau b}\\tag{3}\n",
    "\\end{equation}\n",
    "The ML estimators are given below,\n",
    "\\begin{align}\n",
    "\\hat{\\mu} &= \\frac{n-m/\\tau}{s}\\tag{4}\\\\\n",
    "\\hat{b} &= \\frac{m}{\\tau}\\tag{5}\\\\\n",
    "\\hat{\\hat{b}} &= \\frac{n+m-(1+\\tau)\\mu s}{2(1+\\tau)}+\\left[\\frac{(n+m-(1+\\tau)\\mu s)^2+4(1+\\tau)m\\mu s}{4(1+\\tau)^2}\\right]^{1/2}\\tag{6}\n",
    "\\end{align}\n",
    "Next when we talk about the event counts predicted from the standard model taking a scale factor $\\tau$ into account for deviations from Poissonian statistics, we should get a mean with standard deviations that we can write as,\n",
    "\\begin{equation}\n",
    "N_{SM} = \\left< N_{SM} \\right> \\pm \\Delta\\tag{7}\n",
    "\\end{equation}\n",
    "If we write this in terms of the Poissonian count we get,\n",
    "\\begin{equation}\n",
    "N_{SM} = N\\tau\\pm\\sqrt{N}\\tau\\tag{8}\n",
    "\\end{equation}\n",
    "which then gives us the raw count with the scaling,\n",
    "\\begin{equation}\n",
    "N = \\left(\\frac{\\left< N_{SM} \\right>}{\\Delta}\\right)^2\\quad,\\quad\\tau = \\frac{N}{\\left< N_{SM} \\right>}\\tag{9}\n",
    "\\end{equation} \n",
    "Now here we note that the background is simply the standard model prediction for the expected counts while the signal is the expected count if excited leptons exist thus we establish,\n",
    "\\begin{equation}\n",
    "s = \\left< N_{exp}\\right>\\quad,\\quad b = \\left< N_{SM}\\right>\\tag{10}\n",
    "\\end{equation}\n",
    "Taking the luminosity and the detector efficiency into account we get the upper limit on cross section,\n",
    "\\begin{equation}\n",
    "\\sigma = \\frac{\\mu_{cut}N_{exp}}{36\\epsilon}\\tag{11}\n",
    "\\end{equation}"
   ]
  },
  {
   "cell_type": "markdown",
   "metadata": {},
   "source": [
    "# Imports"
   ]
  },
  {
   "cell_type": "code",
   "execution_count": 111,
   "metadata": {},
   "outputs": [],
   "source": [
    "import numpy as np\n",
    "import matplotlib.pyplot as plt\n",
    "from scipy.stats import poisson \n",
    "from scipy.special import factorial"
   ]
  },
  {
   "cell_type": "markdown",
   "metadata": {},
   "source": [
    "# Upper Limit Evaluation"
   ]
  },
  {
   "cell_type": "markdown",
   "metadata": {},
   "source": [
    "### Direct Quantities"
   ]
  },
  {
   "cell_type": "code",
   "execution_count": 112,
   "metadata": {},
   "outputs": [],
   "source": [
    "Me = np.array([200 , 400 , 600 , 800 , 1000 , 1200 , 1500]) ### Mass hypothesis\n",
    "Mcut = np.array([180 , 350 , 500 , 500 , 500 , 500 , 500]) ### Low mass cut\n",
    "Ndata = np.array([0 , 0, 0, 0, 0, 0, 0]) ### number of events observed\n",
    "NSM = np.array([1, 0.1, 0.01, 0.01, 0.01, 0.01, 0.01]) ### bkg events from the Standard Model\n",
    "Delta = np.array([0.15, 0.07, 0.06, 0.06, 0.06, 0.06, 0.06]) ### uncertainty on the bkg\n",
    "signaleff = np.array([0.387, 0.446, 0.47, 0.493, 0.509, 0.513, 0.529])\n",
    "Nexp = np.array([40, 16, 6.4, 2.5, 1.0, 0.4, 0.1])\n",
    "num = 100000"
   ]
  },
  {
   "cell_type": "code",
   "execution_count": 113,
   "metadata": {},
   "outputs": [],
   "source": [
    "N = ((NSM/Delta)**2)\n",
    "\n",
    "tau = (N/NSM).reshape(-1,1,1)\n",
    "s = Nexp.reshape(-1,1,1)\n",
    "b = NSM.reshape(-1,1,1)\n",
    "\n",
    "nobs = Ndata.reshape(-1,1,1)\n",
    "mobs = (b*tau).round()"
   ]
  },
  {
   "cell_type": "code",
   "execution_count": 114,
   "metadata": {},
   "outputs": [
    {
     "data": {
      "text/plain": [
       "0"
      ]
     },
     "execution_count": 114,
     "metadata": {},
     "output_type": "execute_result"
    }
   ],
   "source": [
    "nobs[0,0,0]"
   ]
  },
  {
   "cell_type": "code",
   "execution_count": 115,
   "metadata": {},
   "outputs": [
    {
     "data": {
      "text/plain": [
       "44.0"
      ]
     },
     "execution_count": 115,
     "metadata": {},
     "output_type": "execute_result"
    }
   ],
   "source": [
    "mobs[0,0,0]"
   ]
  },
  {
   "cell_type": "code",
   "execution_count": 116,
   "metadata": {},
   "outputs": [
    {
     "data": {
      "text/plain": [
       "array([[[4.44444444e+01]],\n",
       "\n",
       "       [[2.04081633e+00]],\n",
       "\n",
       "       [[2.77777778e-02]],\n",
       "\n",
       "       [[2.77777778e-02]],\n",
       "\n",
       "       [[2.77777778e-02]],\n",
       "\n",
       "       [[2.77777778e-02]],\n",
       "\n",
       "       [[2.77777778e-02]]])"
      ]
     },
     "execution_count": 116,
     "metadata": {},
     "output_type": "execute_result"
    }
   ],
   "source": [
    "taub"
   ]
  },
  {
   "cell_type": "code",
   "execution_count": 188,
   "metadata": {},
   "outputs": [
    {
     "data": {
      "text/plain": [
       "array([[[4.44444444e+01]],\n",
       "\n",
       "       [[2.04081633e+00]],\n",
       "\n",
       "       [[2.77777778e-02]],\n",
       "\n",
       "       [[2.77777778e-02]],\n",
       "\n",
       "       [[2.77777778e-02]],\n",
       "\n",
       "       [[2.77777778e-02]],\n",
       "\n",
       "       [[2.77777778e-02]]])"
      ]
     },
     "execution_count": 188,
     "metadata": {},
     "output_type": "execute_result"
    }
   ],
   "source": [
    "taub = (tau * b).reshape(-1,1,1)\n",
    "taub"
   ]
  },
  {
   "cell_type": "code",
   "execution_count": 118,
   "metadata": {},
   "outputs": [
    {
     "data": {
      "text/plain": [
       "(7, 1, 1)"
      ]
     },
     "execution_count": 118,
     "metadata": {},
     "output_type": "execute_result"
    }
   ],
   "source": [
    "taub.shape"
   ]
  },
  {
   "cell_type": "code",
   "execution_count": 119,
   "metadata": {},
   "outputs": [
    {
     "data": {
      "text/plain": [
       "7"
      ]
     },
     "execution_count": 119,
     "metadata": {},
     "output_type": "execute_result"
    }
   ],
   "source": [
    "len(taub)"
   ]
  },
  {
   "cell_type": "code",
   "execution_count": 120,
   "metadata": {},
   "outputs": [
    {
     "data": {
      "text/plain": [
       "array([[[44.44444444]],\n",
       "\n",
       "       [[20.40816327]],\n",
       "\n",
       "       [[ 2.77777778]],\n",
       "\n",
       "       [[ 2.77777778]],\n",
       "\n",
       "       [[ 2.77777778]],\n",
       "\n",
       "       [[ 2.77777778]],\n",
       "\n",
       "       [[ 2.77777778]]])"
      ]
     },
     "execution_count": 120,
     "metadata": {},
     "output_type": "execute_result"
    }
   ],
   "source": [
    "tau"
   ]
  },
  {
   "cell_type": "markdown",
   "metadata": {},
   "source": [
    "### Derived Quantities"
   ]
  },
  {
   "cell_type": "markdown",
   "metadata": {},
   "source": [
    "Axis 0: Corresponding to different M value\n",
    "\n",
    "Axis 1: Different Poissonian sample\n",
    "\n",
    "Axis 2: Different mu values"
   ]
  },
  {
   "cell_type": "code",
   "execution_count": null,
   "metadata": {},
   "outputs": [],
   "source": []
  },
  {
   "cell_type": "code",
   "execution_count": 121,
   "metadata": {},
   "outputs": [],
   "source": [
    "poisson_samples_n = []\n",
    "poisson_samples_m = []\n",
    "\n",
    "for i in range(len(Nexp)):\n",
    "    samples_n = np.random.poisson(lam=Nexp[i], size=num)\n",
    "    poisson_samples_n.append(samples_n) \n",
    "\n",
    "for i in range(len(taub)):\n",
    "    samples_m = np.random.poisson(lam=taub[i,0,0], size=num)\n",
    "    poisson_samples_m.append(samples_m) \n",
    "\n",
    "\n",
    "poisson_samples_n = np.array(poisson_samples_n)\n",
    "poisson_samples_m = np.array(poisson_samples_m)\n"
   ]
  },
  {
   "cell_type": "code",
   "execution_count": 122,
   "metadata": {},
   "outputs": [
    {
     "data": {
      "text/plain": [
       "(7, 100000)"
      ]
     },
     "execution_count": 122,
     "metadata": {},
     "output_type": "execute_result"
    }
   ],
   "source": [
    "poisson_samples_n.shape"
   ]
  },
  {
   "cell_type": "code",
   "execution_count": 123,
   "metadata": {},
   "outputs": [
    {
     "data": {
      "text/plain": [
       "(7, 100000)"
      ]
     },
     "execution_count": 123,
     "metadata": {},
     "output_type": "execute_result"
    }
   ],
   "source": [
    "poisson_samples_m.shape"
   ]
  },
  {
   "cell_type": "code",
   "execution_count": 189,
   "metadata": {},
   "outputs": [
    {
     "data": {
      "text/plain": [
       "array([0, 0, 0, ..., 0, 0, 0])"
      ]
     },
     "execution_count": 189,
     "metadata": {},
     "output_type": "execute_result"
    }
   ],
   "source": [
    "poisson_samples_m[4]"
   ]
  },
  {
   "cell_type": "code",
   "execution_count": 190,
   "metadata": {},
   "outputs": [
    {
     "data": {
      "text/plain": [
       "array([1, 1, 0, ..., 3, 0, 3])"
      ]
     },
     "execution_count": 190,
     "metadata": {},
     "output_type": "execute_result"
    }
   ],
   "source": [
    "poisson_samples_n[4]"
   ]
  },
  {
   "cell_type": "code",
   "execution_count": 124,
   "metadata": {},
   "outputs": [
    {
     "data": {
      "text/plain": [
       "(7, 1, 1)"
      ]
     },
     "execution_count": 124,
     "metadata": {},
     "output_type": "execute_result"
    }
   ],
   "source": [
    "tau.shape"
   ]
  },
  {
   "cell_type": "code",
   "execution_count": 178,
   "metadata": {},
   "outputs": [],
   "source": [
    "\n",
    "\n",
    "# Likelihood functions\n",
    "def Likelihood_b(samples, b, m, tau):\n",
    "    term = (((tau *b)**m)/factorial(m))*np.exp(-(tau * b))\n",
    "    # print(\"term: \",term[10:21])\n",
    "    \n",
    "    return (np.exp(-b) * (b**samples) / factorial(samples))*term\n",
    "\n",
    "def Likelihood_sb(samples, s,  b, mu, m, tau):\n",
    "    N = ((mu * s) + b)\n",
    "    term = (((tau *b)**m)/factorial(m))*np.exp(-(tau * b))\n",
    "    return (np.exp(-N) * (N**samples) / factorial(samples))*term\n",
    "\n",
    "# Log-likelihood ratio\n",
    "def log_likelihood_ratio(samples, s, b_hat, mu_hat, b_dhat, m, tau):\n",
    "    print(\"b: \", b_hat)\n",
    "    L0_vals = Likelihood_b(samples, b_dhat, m, tau)\n",
    "    print(\"L_0 values: \", L0_vals)\n",
    "    L1_vals = Likelihood_sb(samples, s, b_hat, mu_hat, m, tau)\n",
    "    print(\"L_1 values: \", L1_vals)\n",
    "    \n",
    "    # Avoid divide-by-zero warning``\n",
    "    return np.where(L0_vals != 0, -2 * np.log(L0_vals / L1_vals), np.inf)"
   ]
  },
  {
   "cell_type": "code",
   "execution_count": 126,
   "metadata": {},
   "outputs": [],
   "source": [
    "# lambda_1 = log_likelihood_ratio(poisson_samples_n, )"
   ]
  },
  {
   "cell_type": "markdown",
   "metadata": {},
   "source": [
    "### Estimators and Test Statistics"
   ]
  },
  {
   "cell_type": "code",
   "execution_count": 127,
   "metadata": {},
   "outputs": [],
   "source": [
    "# def estimators(mu,s, tau,n=None,m=None):\n",
    "#     ### get the values of muhat, bhat and bhathat\n",
    "#     mu_hat = (n - (m/tau)) / s\n",
    "#     num = (n+m-((1+tau)*mu*s))**2+(4*(1+tau)*m*mu*s)\n",
    "#     den = 4*((1+tau)**2)\n",
    "#     b_dhat = ((n+m-((1+tau)*mu*s))/(2*(1+tau)))+((num/den)**(1/2))\n",
    "#     b_hat = m/tau\n",
    "#     return mu_hat, b_hat, b_dhat\n",
    "\n",
    "\n",
    "# def test_statistics(mu,s, tau,n=None,m=None):\n",
    "#     ### get the distribution of q0\n",
    "#     mu_hat, b_hat, b_dhat = estimators(mu,s, tau,n,m)\n",
    "#     print(mu_hat)\n",
    "#     mu_hat[mu_hat>mu] = 0\n",
    "#     q = log_likelihood_ratio(n, s, b_hat, mu_hat, b_dhat, m, tau)\n",
    "#     print(q.shape)\n",
    "#     print(q)\n",
    "#     print(mu_hat.shape)\n",
    "#     q [mu_hat == 0] = 0\n",
    "#     return q\n",
    "\n",
    "\n",
    "\n",
    "# def p_value(mu, s,  tau, N_obs, M_obs, n=None,m=None):\n",
    "#     ### get the p-value of the observed quantity\n",
    "#     t_obs = test_statistics(mu, s, tau, N_obs, M_obs)\n",
    "#     print(t_obs)\n",
    "\n",
    "#     q = test_statistics(mu, s,  tau, n, m)\n",
    "#     print(q)\n",
    "\n",
    "#     cross_indices = np.where(q > t_obs)[0]\n",
    "\n",
    "#     if cross_indices.size > 0:\n",
    "#         first_cross = cross_indices[0]\n",
    "#         result = q[first_cross:].sum()\n",
    "\n",
    "#     return result\n"
   ]
  },
  {
   "cell_type": "code",
   "execution_count": 184,
   "metadata": {},
   "outputs": [],
   "source": [
    "\n",
    "def estimators(mu, s, tau, n=None, m=None):\n",
    "    mu_hat = (n - (m / tau)) / s\n",
    "    num = (n + m - ((1 + tau) * mu * s)) ** 2 + (4 * (1 + tau) * m * mu * s)\n",
    "    den = 4 * ((1 + tau) ** 2)\n",
    "    b_dhat = ((n + m - ((1 + tau) * mu * s)) / (2 * (1 + tau))) + ((num / den) ** 0.5)\n",
    "    b_hat = m / tau\n",
    "    return mu_hat, b_hat, b_dhat\n",
    "\n",
    "def test_statistics(mu, s, tau, n=None, m=None):\n",
    "    mu_hat, b_hat, b_dhat = estimators(mu, s, tau, n, m)\n",
    "    print(\"b: \",b_hat)\n",
    "    print(\"mu_hat: \",mu_hat)\n",
    "    \n",
    "    # Handle scalar case\n",
    "    if np.isscalar(mu_hat):\n",
    "        if mu_hat > mu:\n",
    "            q = 0\n",
    "        else:\n",
    "            q = log_likelihood_ratio(n, s, b_hat, mu_hat, b_dhat, m, tau)\n",
    "    else:\n",
    "        mu_hat[mu_hat > mu] = 0\n",
    "        q = log_likelihood_ratio(n, s, b_hat, mu_hat, b_dhat, m, tau)\n",
    "        q[mu_hat == 0] = 0\n",
    "\n",
    "    return q\n",
    "\n",
    "def p_value(mu, s, tau, N_obs, M_obs, n=None, m=None):\n",
    "    t_obs = test_statistics(mu, s, tau, N_obs, M_obs)\n",
    "    print(\"t_obs: \", t_obs)\n",
    "    q = test_statistics(mu,s,  tau, n, m)\n",
    "    print(\"q: \",q)\n",
    "\n",
    "    cross_indices = np.where(q > t_obs)[0]\n",
    "    if cross_indices.size > 0:\n",
    "        first_cross = cross_indices[0]\n",
    "        result = q[first_cross:].sum()\n",
    "    else:\n",
    "        result = 0.0\n",
    "\n",
    "    return result\n"
   ]
  },
  {
   "cell_type": "code",
   "execution_count": 185,
   "metadata": {},
   "outputs": [
    {
     "name": "stdout",
     "output_type": "stream",
     "text": [
      "b:  0.0\n",
      "mu_hat:  0.0\n",
      "b:  0.0\n",
      "L_0 values:  1.0\n",
      "L_1 values:  1.0\n",
      "t_obs:  -0.0\n",
      "b:  [0.   0.36 0.   ... 0.   0.   0.  ]\n",
      "mu_hat:  [0.375  0.54   0.1875 ... 0.5    0.3125 0.3125]\n",
      "b:  [0.   0.36 0.   ... 0.   0.   0.  ]\n",
      "L_0 values:  [0.00000000e+000 2.06132201e-010 0.00000000e+000 ... 3.75181353e-128\n",
      " 0.00000000e+000 0.00000000e+000]\n",
      "L_1 values:  [1.60623141e-01 7.18321687e-11 2.24041808e-01 ... 0.00000000e+00\n",
      " 1.75467370e-01 1.75467370e-01]\n",
      "q:  [inf  0. inf ...  0. inf inf]\n"
     ]
    },
    {
     "name": "stderr",
     "output_type": "stream",
     "text": [
      "/tmp/ipykernel_48467/2408172751.py:22: RuntimeWarning: divide by zero encountered in divide\n",
      "  return np.where(L0_vals != 0, -2 * np.log(L0_vals / L1_vals), np.inf)\n",
      "/tmp/ipykernel_48467/2408172751.py:22: RuntimeWarning: invalid value encountered in divide\n",
      "  return np.where(L0_vals != 0, -2 * np.log(L0_vals / L1_vals), np.inf)\n",
      "/tmp/ipykernel_48467/2408172751.py:22: RuntimeWarning: divide by zero encountered in log\n",
      "  return np.where(L0_vals != 0, -2 * np.log(L0_vals / L1_vals), np.inf)\n"
     ]
    }
   ],
   "source": [
    "\n",
    "p_val_1 = p_value(0.4, s[1,0,0],tau[2,0,0], nobs[2,0,0], mobs[2,0,0], poisson_samples_n[2], poisson_samples_m[2])"
   ]
  },
  {
   "cell_type": "code",
   "execution_count": 130,
   "metadata": {},
   "outputs": [
    {
     "data": {
      "text/plain": [
       "0.0"
      ]
     },
     "execution_count": 130,
     "metadata": {},
     "output_type": "execute_result"
    }
   ],
   "source": [
    "p_val_1"
   ]
  },
  {
   "cell_type": "code",
   "execution_count": 148,
   "metadata": {},
   "outputs": [
    {
     "data": {
      "text/plain": [
       "20.408163265306122"
      ]
     },
     "execution_count": 148,
     "metadata": {},
     "output_type": "execute_result"
    }
   ],
   "source": [
    "tau[1,0,0]"
   ]
  },
  {
   "cell_type": "code",
   "execution_count": 131,
   "metadata": {},
   "outputs": [
    {
     "data": {
      "text/plain": [
       "44.44444444444445"
      ]
     },
     "execution_count": 131,
     "metadata": {},
     "output_type": "execute_result"
    }
   ],
   "source": [
    "tau[0,0,0]"
   ]
  },
  {
   "cell_type": "code",
   "execution_count": 132,
   "metadata": {},
   "outputs": [
    {
     "data": {
      "text/plain": [
       "array([37, 34, 37, ..., 40, 59, 46])"
      ]
     },
     "execution_count": 132,
     "metadata": {},
     "output_type": "execute_result"
    }
   ],
   "source": [
    "poisson_samples_n[0]"
   ]
  },
  {
   "cell_type": "code",
   "execution_count": 133,
   "metadata": {},
   "outputs": [],
   "source": [
    "t_1 = test_statistics (0.04, s[0,0,0],tau[0,0,0], n= poisson_samples_n[0], m = poisson_samples_m[0])"
   ]
  },
  {
   "cell_type": "code",
   "execution_count": null,
   "metadata": {},
   "outputs": [],
   "source": []
  },
  {
   "cell_type": "code",
   "execution_count": 134,
   "metadata": {},
   "outputs": [
    {
     "data": {
      "image/png": "[encoded data removed]",
      "text/plain": [
       "<Figure size 640x480 with 1 Axes>"
      ]
     },
     "metadata": {},
     "output_type": "display_data"
    }
   ],
   "source": [
    "# plot the distribution of t_1\n",
    "plt.hist(t_1, bins=50, alpha=0.7)\n",
    "plt.xlabel('t_1')\n",
    "plt.ylabel('Frequency')\n",
    "plt.title('Distribution of t_1')\n",
    "plt.show()\n"
   ]
  },
  {
   "cell_type": "code",
   "execution_count": 135,
   "metadata": {},
   "outputs": [
    {
     "data": {
      "text/plain": [
       "array([1.65692367, 2.18423541, 2.7746455 , 2.03889548, 2.06506003,\n",
       "       2.13825115, 2.1556101 , 2.03654808, 2.43472078, 1.96696567])"
      ]
     },
     "execution_count": 135,
     "metadata": {},
     "output_type": "execute_result"
    }
   ],
   "source": [
    "mu_hat_1, b_hat_1, b_dhat_1 = estimators(1, s[0,0,0], tau[1,0,0], n=poisson_samples_n[0], m=poisson_samples_m[0])\n",
    "mu_hat_1[:10]\n",
    "b_hat_1[:10]\n",
    "b_dhat_1[:10]"
   ]
  },
  {
   "cell_type": "markdown",
   "metadata": {},
   "source": [
    "# Manual Evaluation of Cut on Mu"
   ]
  },
  {
   "cell_type": "code",
   "execution_count": 136,
   "metadata": {},
   "outputs": [
    {
     "data": {
      "text/plain": [
       "(7, 1, 100)"
      ]
     },
     "execution_count": 136,
     "metadata": {},
     "output_type": "execute_result"
    }
   ],
   "source": [
    "mu_sample = np.array([np.linspace(0.03,0.04,100),\n",
    "               np.linspace(0.145,0.155,100),\n",
    "               np.linspace(0.4,0.5,100),\n",
    "               np.linspace(1.15,1.25,100),\n",
    "               np.linspace(2.95,3.05,100),\n",
    "               np.linspace(7.4,7.5,100),\n",
    "               np.linspace(29,30,100)])[:,np.newaxis,:]\n",
    "mu_sample.shape"
   ]
  },
  {
   "cell_type": "code",
   "execution_count": 137,
   "metadata": {},
   "outputs": [
    {
     "data": {
      "text/plain": [
       "array([0.145     , 0.14510101, 0.14520202, 0.14530303, 0.14540404,\n",
       "       0.14550505, 0.14560606, 0.14570707, 0.14580808, 0.14590909,\n",
       "       0.1460101 , 0.14611111, 0.14621212, 0.14631313, 0.14641414,\n",
       "       0.14651515, 0.14661616, 0.14671717, 0.14681818, 0.14691919,\n",
       "       0.1470202 , 0.14712121, 0.14722222, 0.14732323, 0.14742424,\n",
       "       0.14752525, 0.14762626, 0.14772727, 0.14782828, 0.14792929,\n",
       "       0.1480303 , 0.14813131, 0.14823232, 0.14833333, 0.14843434,\n",
       "       0.14853535, 0.14863636, 0.14873737, 0.14883838, 0.14893939,\n",
       "       0.1490404 , 0.14914141, 0.14924242, 0.14934343, 0.14944444,\n",
       "       0.14954545, 0.14964646, 0.14974747, 0.14984848, 0.14994949,\n",
       "       0.15005051, 0.15015152, 0.15025253, 0.15035354, 0.15045455,\n",
       "       0.15055556, 0.15065657, 0.15075758, 0.15085859, 0.1509596 ,\n",
       "       0.15106061, 0.15116162, 0.15126263, 0.15136364, 0.15146465,\n",
       "       0.15156566, 0.15166667, 0.15176768, 0.15186869, 0.1519697 ,\n",
       "       0.15207071, 0.15217172, 0.15227273, 0.15237374, 0.15247475,\n",
       "       0.15257576, 0.15267677, 0.15277778, 0.15287879, 0.1529798 ,\n",
       "       0.15308081, 0.15318182, 0.15328283, 0.15338384, 0.15348485,\n",
       "       0.15358586, 0.15368687, 0.15378788, 0.15388889, 0.1539899 ,\n",
       "       0.15409091, 0.15419192, 0.15429293, 0.15439394, 0.15449495,\n",
       "       0.15459596, 0.15469697, 0.15479798, 0.15489899, 0.155     ])"
      ]
     },
     "execution_count": 137,
     "metadata": {},
     "output_type": "execute_result"
    }
   ],
   "source": [
    "mu_sample[1][0]"
   ]
  },
  {
   "cell_type": "code",
   "execution_count": 138,
   "metadata": {},
   "outputs": [
    {
     "ename": "IndentationError",
     "evalue": "expected an indented block (862067503.py, line 3)",
     "output_type": "error",
     "traceback": [
      "\u001b[0;36m  Cell \u001b[0;32mIn[138], line 3\u001b[0;36m\u001b[0m\n\u001b[0;31m    \u001b[0m\n\u001b[0m    ^\u001b[0m\n\u001b[0;31mIndentationError\u001b[0m\u001b[0;31m:\u001b[0m expected an indented block\n"
     ]
    }
   ],
   "source": [
    "for i in range(len(Me)):\n",
    "    for mu in mu_sample[i][0]:\n",
    "        \n"
   ]
  },
  {
   "cell_type": "markdown",
   "metadata": {},
   "source": [
    "# Cross Section Evaluation"
   ]
  },
  {
   "cell_type": "code",
   "execution_count": null,
   "metadata": {},
   "outputs": [],
   "source": []
  },
  {
   "cell_type": "code",
   "execution_count": null,
   "metadata": {},
   "outputs": [],
   "source": []
  }
 ],
 "metadata": {
  "kernelspec": {
   "display_name": "temporary",
   "language": "python",
   "name": "python3"
  },
  "language_info": {
   "codemirror_mode": {
    "name": "ipython",
    "version": 3
   },
   "file_extension": ".py",
   "mimetype": "text/x-python",
   "name": "python",
   "nbconvert_exporter": "python",
   "pygments_lexer": "ipython3",
   "version": "3.9.22"
  }
 },
 "nbformat": 4,
 "nbformat_minor": 2
}
