{
 "cells": [
  {
   "cell_type": "code",
   "execution_count": 1,
   "id": "eefed15a",
   "metadata": {},
   "outputs": [],
   "source": [
    "import numpy as np\n",
    "import matplotlib.pyplot as plt"
   ]
  },
  {
   "cell_type": "code",
   "execution_count": 2,
   "id": "fb668613",
   "metadata": {},
   "outputs": [],
   "source": [
    "def poisson_distribution(mu,b, n):\n",
    "    \"\"\"Calculate the Poisson distribution probability mass function.\"\"\"\n",
    "    lam = mu+b\n",
    "    return (lam ** n) * np.exp(-lam) / np.math.factorial(n)"
   ]
  },
  {
   "cell_type": "code",
   "execution_count": 3,
   "id": "76ea98bf",
   "metadata": {},
   "outputs": [
    {
     "name": "stderr",
     "output_type": "stream",
     "text": [
      "/tmp/ipykernel_15301/2693070129.py:4: DeprecationWarning: `np.math` is a deprecated alias for the standard library `math` module (Deprecated Numpy 1.25). Replace usages of `np.math` with `math`\n",
      "  return (lam ** n) * np.exp(-lam) / np.math.factorial(n)\n"
     ]
    }
   ],
   "source": [
    "P_1_list = []\n",
    "mu = 0.5\n",
    "b = 3.0\n",
    "\n",
    "for n in range(0, 12):\n",
    "    P_1 = poisson_distribution(mu, b, n)\n",
    "    #round to 3 decimal places\n",
    "    # P_1 = round(P_1, 3)\n",
    "    P_1_list.append(P_1)"
   ]
  },
  {
   "cell_type": "code",
   "execution_count": 4,
   "id": "cdc5a97f",
   "metadata": {},
   "outputs": [],
   "source": [
    "P_1_list = np.array(P_1_list)"
   ]
  },
  {
   "cell_type": "code",
   "execution_count": 5,
   "id": "914901a4",
   "metadata": {},
   "outputs": [
    {
     "name": "stderr",
     "output_type": "stream",
     "text": [
      "/tmp/ipykernel_15301/2693070129.py:4: DeprecationWarning: `np.math` is a deprecated alias for the standard library `math` module (Deprecated Numpy 1.25). Replace usages of `np.math` with `math`\n",
      "  return (lam ** n) * np.exp(-lam) / np.math.factorial(n)\n"
     ]
    }
   ],
   "source": [
    "P_2_list = []\n",
    "mu_best_list = []\n",
    "\n",
    "for n in range(0, 12):\n",
    "    if n<=b:\n",
    "        mu_best = 0\n",
    "    else:\n",
    "        mu_best = n - b\n",
    "    mu_best_list.append(mu_best)\n",
    "    P_2 = poisson_distribution(mu_best, b, n)\n",
    "    #round to 3 decimal places\n",
    "    # P_2 = round(P_2, 3)\n",
    "    P_2_list.append(P_2)\n"
   ]
  },
  {
   "cell_type": "code",
   "execution_count": 6,
   "id": "6c8901de",
   "metadata": {},
   "outputs": [],
   "source": [
    "P_2_list = np.array(P_2_list)"
   ]
  },
  {
   "cell_type": "code",
   "execution_count": 7,
   "id": "e0504c55",
   "metadata": {},
   "outputs": [],
   "source": [
    "Profile_likelihood_ratio = P_1_list / P_2_list"
   ]
  },
  {
   "cell_type": "code",
   "execution_count": 8,
   "id": "601f04d8",
   "metadata": {},
   "outputs": [],
   "source": [
    "Profile_likelihood_ratio_rounded = Profile_likelihood_ratio.round(3)"
   ]
  },
  {
   "cell_type": "code",
   "execution_count": 9,
   "id": "e0737643",
   "metadata": {},
   "outputs": [
    {
     "data": {
      "text/plain": [
       "array([0.607, 0.708, 0.826, 0.963, 0.966, 0.753, 0.48 , 0.259, 0.121,\n",
       "       0.05 , 0.018, 0.006])"
      ]
     },
     "execution_count": 9,
     "metadata": {},
     "output_type": "execute_result"
    }
   ],
   "source": [
    "Profile_likelihood_ratio_rounded"
   ]
  },
  {
   "cell_type": "code",
   "execution_count": 10,
   "id": "3f22e88a",
   "metadata": {},
   "outputs": [],
   "source": [
    "# sort the profile likelihood ratio max to min\n",
    "sorted_indices = np.argsort(Profile_likelihood_ratio_rounded)[::-1]\n",
    "sorted_profile_likelihood_ratio = Profile_likelihood_ratio_rounded[sorted_indices]\n"
   ]
  },
  {
   "cell_type": "code",
   "execution_count": 11,
   "id": "2477cf86",
   "metadata": {},
   "outputs": [
    {
     "data": {
      "text/plain": [
       "array([0.966, 0.963, 0.826, 0.753, 0.708, 0.607, 0.48 , 0.259, 0.121,\n",
       "       0.05 , 0.018, 0.006])"
      ]
     },
     "execution_count": 11,
     "metadata": {},
     "output_type": "execute_result"
    }
   ],
   "source": [
    "sorted_profile_likelihood_ratio"
   ]
  },
  {
   "cell_type": "code",
   "execution_count": 12,
   "id": "69cb07f6",
   "metadata": {},
   "outputs": [],
   "source": [
    "Sorted_indices = np.argsort(Profile_likelihood_ratio_rounded)[::-1]\n",
    "sorted_likelihood_ratios = Profile_likelihood_ratio[Sorted_indices]\n",
    "Sorted_probabilities = P_1_list[Sorted_indices]"
   ]
  },
  {
   "cell_type": "code",
   "execution_count": 13,
   "id": "430dd88e",
   "metadata": {},
   "outputs": [
    {
     "data": {
      "text/plain": [
       "array([ 4,  3,  2,  5,  1,  0,  6,  7,  8,  9, 10, 11])"
      ]
     },
     "execution_count": 13,
     "metadata": {},
     "output_type": "execute_result"
    }
   ],
   "source": [
    "sorted_indices"
   ]
  },
  {
   "cell_type": "code",
   "execution_count": 14,
   "id": "70159b6c",
   "metadata": {},
   "outputs": [],
   "source": [
    "cumsum_probabilities = np.cumsum(Sorted_probabilities)\n",
    "cutoff_index = np.searchsorted(cumsum_probabilities, 0.9, side='right')\n"
   ]
  },
  {
   "cell_type": "code",
   "execution_count": 15,
   "id": "ab2e958a",
   "metadata": {},
   "outputs": [
    {
     "data": {
      "text/plain": [
       "6"
      ]
     },
     "execution_count": 15,
     "metadata": {},
     "output_type": "execute_result"
    }
   ],
   "source": [
    "cutoff_index"
   ]
  },
  {
   "cell_type": "code",
   "execution_count": 16,
   "id": "fea34499",
   "metadata": {},
   "outputs": [],
   "source": [
    "sorted_indices = np.argsort(-Profile_likelihood_ratio_rounded)\n",
    "\n",
    "# Step 2: Create empty array for ranks\n",
    "ranks = np.empty_like(sorted_indices)\n",
    "ranks[sorted_indices] = np.arange(1, len(Profile_likelihood_ratio_rounded) + 1)\n",
    "ranks = ranks[:cutoff_index]\n",
    "# Rank_full = Rank + [''] * (12 - len(Rank))\n",
    "Rank_full = list(ranks) + [''] * (12 - len(ranks))"
   ]
  },
  {
   "cell_type": "code",
   "execution_count": 17,
   "id": "22ae13fa",
   "metadata": {},
   "outputs": [],
   "source": [
    "top_likelihood_ratios = sorted_likelihood_ratios[:cutoff_index]\n",
    "top_probabilities = Sorted_probabilities[:cutoff_index]"
   ]
  },
  {
   "cell_type": "code",
   "execution_count": 18,
   "id": "27d55b5e",
   "metadata": {},
   "outputs": [
    {
     "name": "stdout",
     "output_type": "stream",
     "text": [
      "Selected (Likelihood_ratios, probability) pairs:\n",
      "[(0.966, 0.189), (0.963, 0.216), (0.826, 0.185), (0.753, 0.132), (0.708, 0.106), (0.607, 0.03)]\n"
     ]
    }
   ],
   "source": [
    "sliced_array = list(zip(top_likelihood_ratios.round(3), top_probabilities.round(3)))\n",
    "\n",
    "print(\"Selected (Likelihood_ratios, probability) pairs:\")\n",
    "print(sliced_array)"
   ]
  },
  {
   "cell_type": "code",
   "execution_count": null,
   "id": "238f3ee4",
   "metadata": {},
   "outputs": [],
   "source": [
    "def get_range(mu):\n",
    "    P_1_list = []\n",
    "    # mu = 0.5\n",
    "    b = 3.0\n",
    "\n",
    "    for n in range(0, 40):\n",
    "        P_1 = poisson_distribution(mu, b, n)\n",
    "        #round to 3 decimal places\n",
    "        # P_1 = round(P_1, 3)\n",
    "        P_1_list.append(P_1)\n",
    "\n",
    "    P_1_list = np.array(P_1_list)\n",
    "    \n",
    "    P_2_list = []\n",
    "    mu_best_list = []\n",
    "\n",
    "    for n in range(0, 40):\n",
    "        if n<=b:\n",
    "            mu_best = 0\n",
    "        else:\n",
    "            mu_best = n - b\n",
    "        mu_best_list.append(mu_best)\n",
    "        P_2 = poisson_distribution(mu_best, b, n)\n",
    "        #round to 3 decimal places\n",
    "        # P_2 = round(P_2, 3)\n",
    "        P_2_list.append(P_2)\n",
    "    \n",
    "    P_2_list = np.array(P_2_list)\n",
    "\n",
    "    Profile_likelihood_ratio = P_1_list / P_2_list\n",
    "\n",
    "    max_llr = np.max(Profile_likelihood_ratio)\n",
    "    max_indices = np.where(Profile_likelihood_ratio == max_llr)[0]\n",
    "    n_max = max_indices[0] # Get the first index of the maximum value\n",
    "\n",
    "    # Sorted_indices = np.argsort(Profile_likelihood_ratio_rounded)[::-1]\n",
    "    # sorted_likelihood_ratios = Profile_likelihood_ratio[Sorted_indices]\n",
    "    # Sorted_probabilities = P_1_list[Sorted_indices]\n",
    "\n",
    "    # cumsum_probabilities = np.cumsum(Sorted_probabilities)\n",
    "    # cutoff_index = np.searchsorted(cumsum_probabilities, 0.9, side='right')\n",
    "\n",
    "\n",
    "    sorted_indices = np.argsort(-Profile_likelihood_ratio)  # negative for descending\n",
    "    sorted_probs = P_1_list[sorted_indices]\n",
    "\n",
    "    # Step 2: Cumulative sum of sorted probabilities\n",
    "    cumulative_sum = np.cumsum(sorted_probs)\n",
    "\n",
    "    # Step 3: Find index where cumulative sum reaches/exceeds threshold\n",
    "    # last_index_in_sorted = np.searchsorted(cumulative_sum, 0.9)\n",
    "    target = 0.9\n",
    "    last_index_in_sorted = np.argmin(np.abs(cumulative_sum - target))\n",
    "\n",
    "    # Step 4: Map this back to original index\n",
    "    original_index = sorted_indices[last_index_in_sorted]\n",
    "\n",
    "    n_min = original_index\n",
    "    \n",
    "    return n_min, n_max\n",
    "    \n",
    "\n",
    "    \n",
    "\n",
    "    \n",
    "    \n",
    "    \n",
    "    "
   ]
  },
  {
   "cell_type": "code",
   "execution_count": 7,
   "id": "ca02fc80",
   "metadata": {},
   "outputs": [
    {
     "name": "stdout",
     "output_type": "stream",
     "text": [
      "n_min: 2, n_max: 6\n"
     ]
    },
    {
     "name": "stderr",
     "output_type": "stream",
     "text": [
      "/tmp/ipykernel_15357/2693070129.py:4: DeprecationWarning: `np.math` is a deprecated alias for the standard library `math` module (Deprecated Numpy 1.25). Replace usages of `np.math` with `math`\n",
      "  return (lam ** n) * np.exp(-lam) / np.math.factorial(n)\n"
     ]
    }
   ],
   "source": [
    "nmin , nmax = get_range(3.0)\n",
    "print(f\"n_min: {nmin}, n_max: {nmax}\")"
   ]
  },
  {
   "cell_type": "code",
   "execution_count": 10,
   "id": "3cae651e",
   "metadata": {},
   "outputs": [
    {
     "name": "stderr",
     "output_type": "stream",
     "text": [
      "/tmp/ipykernel_15357/2693070129.py:4: DeprecationWarning: `np.math` is a deprecated alias for the standard library `math` module (Deprecated Numpy 1.25). Replace usages of `np.math` with `math`\n",
      "  return (lam ** n) * np.exp(-lam) / np.math.factorial(n)\n"
     ]
    },
    {
     "data": {
      "image/png": "[encoded data removed]",
      "text/plain": [
       "<Figure size 700x700 with 1 Axes>"
      ]
     },
     "metadata": {},
     "output_type": "display_data"
    }
   ],
   "source": [
    "lm_list = []\n",
    "hm_list = []# significance level for upper limit\n",
    "\n",
    "# mu_true = np.arange(0, 15, 1.0)  # True values of mu for plotting\n",
    "mu_true = np.linspace(0, 20, 500)\n",
    "\n",
    "# Loop and compute\n",
    "for mu in mu_true:\n",
    "    lm, hm = get_range(mu)\n",
    "    lm_list.append(lm)\n",
    "    hm_list.append(hm)\n",
    "\n",
    "# Plotting\n",
    "plt.figure(figsize=(7, 7))\n",
    "plt.plot(lm_list, mu_true, label='Upper Limit', color='blue')\n",
    "plt.plot(hm_list, mu_true, label='Lower Limit', color='red')\n",
    "plt.xlabel('Number of Events (n)')\n",
    "plt.ylabel('Limit (observed - background)')\n",
    "plt.xlim(0, 15)\n",
    "plt.ylim(0, 15)\n",
    "plt.title('Poisson Confidence Limits')\n",
    "plt.legend()\n",
    "plt.grid(True)\n",
    "plt.tight_layout()\n",
    "plt.show()\n",
    "\n",
    "    "
   ]
  },
  {
   "cell_type": "code",
   "execution_count": 22,
   "id": "06d565c0",
   "metadata": {},
   "outputs": [
    {
     "name": "stdout",
     "output_type": "stream",
     "text": [
      " n  P(n|μ)  μ_best  P(n|μ_best)     R rank U.L. central\n",
      " 0   0.030     0.0        0.050 0.607    6    ✓       ✓\n",
      " 1   0.106     0.0        0.149 0.708    5    ✓       ✓\n",
      " 2   0.185     0.0        0.224 0.826    3    ✓       ✓\n",
      " 3   0.216     0.0        0.224 0.963    2    ✓       ✓\n",
      " 4   0.189     1.0        0.195 0.966    1    ✓       ✓\n",
      " 5   0.132     2.0        0.175 0.753    4    ✓        \n",
      " 6   0.077     3.0        0.161 0.480         ✓        \n",
      " 7   0.039     4.0        0.149 0.259         ✓        \n",
      " 8   0.017     5.0        0.140 0.121         ✓       ✓\n",
      " 9   0.007     6.0        0.132 0.050         ✓        \n",
      "10   0.002     7.0        0.125 0.018         ✓        \n",
      "11   0.001     8.0        0.119 0.006         ✓        \n"
     ]
    }
   ],
   "source": [
    "import pandas as pd\n",
    "\n",
    "# Define the table columns\n",
    "n = list(range(12))\n",
    "UL = ['✓'] * 12\n",
    "central = ['✓' if i in [0, 1, 2, 3, 4, 8] else '' for i in range(12)]\n",
    "\n",
    "# Create DataFrame\n",
    "df = pd.DataFrame({\n",
    "    'n': n,\n",
    "    'P(n|μ)': P_1_list.round(3),\n",
    "    'μ_best': mu_best_list,\n",
    "    'P(n|μ_best)': P_2_list.round(3),\n",
    "    'R': Profile_likelihood_ratio_rounded,\n",
    "    'rank': Rank_full,\n",
    "    'U.L.': UL,\n",
    "    'central': central\n",
    "})\n",
    "\n",
    "# Display the table\n",
    "print(df.to_string(index=False))\n"
   ]
  }
 ],
 "metadata": {
  "kernelspec": {
   "display_name": "temporary",
   "language": "python",
   "name": "python3"
  },
  "language_info": {
   "codemirror_mode": {
    "name": "ipython",
    "version": 3
   },
   "file_extension": ".py",
   "mimetype": "text/x-python",
   "name": "python",
   "nbconvert_exporter": "python",
   "pygments_lexer": "ipython3",
   "version": "3.9.21"
  }
 },
 "nbformat": 4,
 "nbformat_minor": 5
}
