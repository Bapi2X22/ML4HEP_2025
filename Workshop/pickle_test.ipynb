{
 "cells": [
  {
   "cell_type": "code",
   "execution_count": 4,
   "id": "63de5766",
   "metadata": {},
   "outputs": [],
   "source": [
    "import pickle\n",
    "import numpy as np"
   ]
  },
  {
   "cell_type": "code",
   "execution_count": 28,
   "id": "56733feb",
   "metadata": {},
   "outputs": [],
   "source": [
    "with open('z_to_e1_over_e7.pkl', 'rb') as f:\n",
    "    z_to_e1_over_e7 = pickle.load(f)"
   ]
  },
  {
   "cell_type": "code",
   "execution_count": 34,
   "id": "9b6bfbbe",
   "metadata": {},
   "outputs": [],
   "source": [
    "with open('z_to_e7_over_e19.pkl', 'rb') as f:\n",
    "    z_to_e7_over_e19 = pickle.load(f)"
   ]
  },
  {
   "cell_type": "code",
   "execution_count": 29,
   "id": "7bc01f2c",
   "metadata": {},
   "outputs": [
    {
     "data": {
      "text/plain": [
       "{13.8774995803833: array([1.        , 0.80477085, 0.88711568, ..., 1.        , 0.68198686,\n",
       "        0.81690858]),\n",
       " 14.767499923706056: array([0.92714224, 0.86738575, 0.78360974, ..., 0.86352784, 0.84085353,\n",
       "        0.92488892]),\n",
       " 16.782499313354492: array([0.7267833 , 0.64388624, 0.59222396, ..., 0.71586998, 0.59511221,\n",
       "        0.69327791]),\n",
       " 17.672500610351562: array([0.78229298, 0.84483817, 0.65189525, ..., 0.87539221, 0.70195875,\n",
       "        0.69912248]),\n",
       " 19.6875: array([0.60652137, 0.62362943, 0.53022161, ..., 0.66672879, 0.40451329,\n",
       "        0.52892665]),\n",
       " 20.57749938964844: array([0.67661991, 0.75984128, 0.61472519, ..., 0.79537875, 0.43104709,\n",
       "        0.58160126]),\n",
       " 22.6924991607666: array([0.50433739, 0.59919717, 0.51483865, ..., 0.51390342, 0.40224925,\n",
       "        0.37672876]),\n",
       " 23.582500457763672: array([0.64292011, 0.70384397, 0.6708541 , ..., 0.64838768, 0.47900706,\n",
       "        0.41988838]),\n",
       " 25.69750022888184: array([0.48167001, 0.52995778, 0.52092226, ..., 0.46987469, 0.40459223,\n",
       "        0.38532512]),\n",
       " 26.587499618530277: array([0.62857417, 0.67530049, 0.57706696, ..., 0.56849986, 0.4188965 ,\n",
       "        0.47264285]),\n",
       " 28.70249938964844: array([0.49946834, 0.51636118, 0.47381469, ..., 0.41855347, 0.37207209,\n",
       "        0.41456007]),\n",
       " 29.592500686645508: array([0.51442174, 0.60601998, 0.46433491, ..., 0.49218967, 0.39447946,\n",
       "        0.46650558]),\n",
       " 31.50749969482422: array([0.42571003, 0.45144673, 0.45016636, ..., 0.38533128, 0.39058392,\n",
       "        0.4080909 ]),\n",
       " 32.397499084472656: array([0.49178586, 0.55810222, 0.56599028, ..., 0.38760741, 0.39814774,\n",
       "        0.41333057]),\n",
       " 34.3125: array([0.33687873, 0.43113093, 0.59339414, ..., 0.41952941, 0.2949104 ,\n",
       "        0.34721716]),\n",
       " 35.20249938964844: array([0.37297212, 0.5243758 , 0.39790006, ..., 0.39646883, 0.3401791 ,\n",
       "        0.42036752]),\n",
       " 37.11750030517578: array([0.32053507, 0.41455433, 0.2617431 , ..., 0.29419601, 0.33095359,\n",
       "        0.3504106 ]),\n",
       " 38.00749969482422: array([0.40800306, 0.52259043, 0.43894876, ..., 0.34712207, 0.43582933,\n",
       "        0.4599774 ]),\n",
       " 39.92250061035156: array([0.29706221, 0.378116  , 0.49756064, ..., 0.31053479, 0.24447004,\n",
       "        0.3282542 ]),\n",
       " 40.8125: array([0.47549398, 0.55020072, 0.43813157, ..., 0.34172892, 0.27965701,\n",
       "        0.41058529]),\n",
       " 42.907501220703125: array([0.26303591, 0.32293238, 0.67023989, ..., 0.25828897, 0.47353075,\n",
       "        0.41449369]),\n",
       " 44.03749847412109: array([0.36800504, 0.50286995, 0.75684833, ..., 0.2906534 , 0.30761445,\n",
       "        0.37213015]),\n",
       " 46.41249847412109: array([0.53019168, 0.33345626, 0.37922545, ..., 0.30376976, 0.36787621,\n",
       "        0.30330295]),\n",
       " 47.54249954223633: array([0.81999109, 0.56922757, 0.87558888, ..., 0.85798733, 1.        ,\n",
       "        0.2524618 ]),\n",
       " 49.68199920654297: array([0.56598364, 0.89765962, 1.        , ..., 0.79241978, 1.        ,\n",
       "        0.33687469]),\n",
       " 50.6879997253418: array([0.68824659, 0.74574834, 1.        , ..., 0.76996438, 0.47076278,\n",
       "        0.52808176]),\n",
       " 52.88150024414063: array([0.60954538, 1.        , 1.        , ..., 1.        , 0.50288243,\n",
       "        1.        ]),\n",
       " 53.90349960327149: array([0.86515411, 0.83609602, 1.        , ..., 0.80963579, 1.        ,\n",
       "        1.        ])}"
      ]
     },
     "execution_count": 29,
     "metadata": {},
     "output_type": "execute_result"
    }
   ],
   "source": [
    "z_to_e1_over_e7"
   ]
  },
  {
   "cell_type": "code",
   "execution_count": 30,
   "id": "1cefb1e2",
   "metadata": {},
   "outputs": [],
   "source": [
    "import numpy as np\n",
    "\n",
    "# # Assuming `your_dict` is the dictionary\n",
    "# array = np.vstack(list(z_to_e1_over_e7.values()))\n",
    "# array = np.concatenate(list(z_to_e1_over_e7.values()))\n",
    "\n"
   ]
  },
  {
   "cell_type": "code",
   "execution_count": 31,
   "id": "14d0cb41",
   "metadata": {},
   "outputs": [
    {
     "data": {
      "text/plain": [
       "(50000,)"
      ]
     },
     "execution_count": 31,
     "metadata": {},
     "output_type": "execute_result"
    }
   ],
   "source": [
    "your_dict = z_to_e1_over_e7\n",
    "first_key = next(iter(your_dict))\n",
    "first_value = your_dict[first_key]\n",
    "first_value.shape   \n"
   ]
  },
  {
   "cell_type": "code",
   "execution_count": 32,
   "id": "f27780e3",
   "metadata": {},
   "outputs": [
    {
     "data": {
      "text/plain": [
       "array([1.        , 0.80477085, 0.88711568, 0.95785957, 0.46489268,\n",
       "       0.93818248, 0.51289491, 1.        , 0.89644891, 0.81110958,\n",
       "       0.82580767, 0.87277878, 0.78558931, 0.86642951, 1.        ,\n",
       "       0.91656719, 0.88028129, 0.72854713, 0.57158269, 0.85779134,\n",
       "       0.47298746, 0.94899041, 0.73701034, 0.99000199, 0.65910167,\n",
       "       0.67184838, 0.9199515 , 0.80868418, 1.        , 1.        ,\n",
       "       0.72896416, 0.4364643 , 0.95022127, 0.65701096, 0.63511995,\n",
       "       1.        , 0.69914259, 0.91426525, 0.95056769, 0.71940391,\n",
       "       1.        , 0.81897413, 0.6597715 , 0.7672153 , 0.85971789,\n",
       "       0.7630552 , 0.62183944, 0.69586852, 0.84137641, 0.61423826,\n",
       "       0.67297666, 0.69854133, 1.        , 0.65008781, 0.77629157,\n",
       "       0.7117299 , 0.97723438, 0.84711482, 0.79981313, 0.9741183 ,\n",
       "       0.77938911, 0.77207318, 0.64002527, 0.69206933, 0.94589195,\n",
       "       0.61826305, 0.800683  , 0.69315886, 1.        , 0.85270426,\n",
       "       0.84630666, 0.64519121, 0.79224934, 0.83312641, 0.84814493,\n",
       "       0.95398812, 0.92666942, 1.        , 0.98632721, 0.68318727,\n",
       "       0.74698151, 0.67575885, 1.        , 0.41021798, 0.47945462,\n",
       "       0.95317393, 0.72537186, 0.87588714, 0.72326762, 0.88758024,\n",
       "       0.79160678, 0.68063867, 0.90790037, 0.82132465, 0.93514065,\n",
       "       0.59917205, 1.        , 0.96460166, 0.70730284, 0.80161706,\n",
       "       0.96590266, 0.77221435, 0.90028485, 0.85674825, 0.87815648,\n",
       "       0.66913935, 0.89486074, 0.44016734, 0.68772107, 0.75892147,\n",
       "       0.7821034 , 0.64468567, 0.45035428, 0.86277786, 0.59887489,\n",
       "       0.88123909, 0.80669847, 0.66884273, 0.91909241, 0.33541752,\n",
       "       0.52477781, 0.84868278, 0.96738611, 1.        , 0.825059  ,\n",
       "       0.78711249, 0.89542135, 0.87518471, 0.72009517, 1.        ,\n",
       "       0.88644547, 0.91979258, 0.61711479, 0.81429359, 1.        ,\n",
       "       0.63462973, 0.49434057, 0.51437846, 0.87629807, 1.        ,\n",
       "       1.        , 1.        , 0.91235987, 0.48771916, 1.        ,\n",
       "       0.84948512, 0.74128603, 0.92233364, 1.        , 0.6756299 ,\n",
       "       1.        , 1.        , 0.76868595, 0.77495539, 0.91130229,\n",
       "       0.5868019 , 0.66263209, 0.91228434, 0.63729189, 1.        ,\n",
       "       0.70224497, 0.92724254, 0.89009485, 0.85361454, 0.7563017 ,\n",
       "       0.53069695, 0.69655887, 0.90635245, 0.7510415 , 0.63021304,\n",
       "       0.86973733, 0.50719413, 0.84277415, 0.91236411, 0.9044936 ,\n",
       "       1.        , 1.        , 0.48455919, 0.64310943, 0.96697004,\n",
       "       0.87689   , 0.66335063, 0.87015578, 0.74941949, 1.        ,\n",
       "       0.5496899 , 0.85557072, 0.91478625, 0.68497643, 0.96670606,\n",
       "       0.63329174, 1.        , 0.67839554, 0.8218384 , 1.        ,\n",
       "       0.55771649, 0.58561909, 0.90135087, 0.9742863 , 0.93604024])"
      ]
     },
     "execution_count": 32,
     "metadata": {},
     "output_type": "execute_result"
    }
   ],
   "source": [
    "first_value[0:200]"
   ]
  },
  {
   "cell_type": "code",
   "execution_count": 12,
   "id": "b11fb758",
   "metadata": {},
   "outputs": [
    {
     "data": {
      "text/plain": [
       "(49985,)"
      ]
     },
     "execution_count": 12,
     "metadata": {},
     "output_type": "execute_result"
    }
   ],
   "source": [
    "keys = list(your_dict)\n",
    "second_key = keys[1]\n",
    "second_value = your_dict[second_key]\n",
    "second_value.shape\n"
   ]
  },
  {
   "cell_type": "code",
   "execution_count": 13,
   "id": "3c2f6062",
   "metadata": {},
   "outputs": [],
   "source": [
    "arr = np.load('rechit_energy_ratios.npz')"
   ]
  },
  {
   "cell_type": "code",
   "execution_count": 14,
   "id": "e19f2497",
   "metadata": {},
   "outputs": [
    {
     "data": {
      "text/plain": [
       "NpzFile 'rechit_energy_ratios.npz' with keys: z_energy_sum, e1_over_e7, e7_over_e19"
      ]
     },
     "execution_count": 14,
     "metadata": {},
     "output_type": "execute_result"
    }
   ],
   "source": [
    "arr"
   ]
  },
  {
   "cell_type": "code",
   "execution_count": 23,
   "id": "c180fbf3",
   "metadata": {},
   "outputs": [
    {
     "data": {
      "text/plain": [
       "(50000,)"
      ]
     },
     "execution_count": 23,
     "metadata": {},
     "output_type": "execute_result"
    }
   ],
   "source": [
    "arr['e1_over_e7'][0].shape"
   ]
  },
  {
   "cell_type": "code",
   "execution_count": 24,
   "id": "1e55712f",
   "metadata": {},
   "outputs": [
    {
     "data": {
      "text/plain": [
       "64"
      ]
     },
     "execution_count": 24,
     "metadata": {},
     "output_type": "execute_result"
    }
   ],
   "source": [
    "np.count_nonzero(arr['e1_over_e7'][0] == 0)"
   ]
  },
  {
   "cell_type": "code",
   "execution_count": 26,
   "id": "db5aefa6",
   "metadata": {},
   "outputs": [
    {
     "data": {
      "text/plain": [
       "209"
      ]
     },
     "execution_count": 26,
     "metadata": {},
     "output_type": "execute_result"
    }
   ],
   "source": [
    "first_zero_index = np.argmax(arr['e1_over_e7'][0] == 0)\n",
    "first_zero_index"
   ]
  },
  {
   "cell_type": "code",
   "execution_count": 27,
   "id": "4e81fe7e",
   "metadata": {},
   "outputs": [
    {
     "data": {
      "text/plain": [
       "array([0.86857913, 0.77292302, 0.6876366 , 0.75085399, 0.91900711,\n",
       "       0.66131461, 0.63963849, 0.74662948, 1.        , 0.        ,\n",
       "       0.79543214, 0.79310392, 0.73846177, 0.67147992, 0.81585121,\n",
       "       1.        , 0.7777429 , 0.79739318, 0.78553873, 0.34629696])"
      ]
     },
     "execution_count": 27,
     "metadata": {},
     "output_type": "execute_result"
    }
   ],
   "source": [
    "arr['e1_over_e7'][0][200:220]"
   ]
  },
  {
   "cell_type": "code",
   "execution_count": 35,
   "id": "860e9379",
   "metadata": {},
   "outputs": [],
   "source": [
    "z_indices = sorted(z_to_e1_over_e7.keys())\n",
    "# num_z = max(z_indices) + 1\n",
    "# num_events = len(next(iter(z_to_e1_over_e7.values())))\n",
    "\n",
    "num_z = int(max(z_indices)) + 1\n",
    "num_events = int(len(next(iter(z_to_e1_over_e7.values()))))\n",
    "\n",
    "# Initialize empty arrays\n",
    "new_e1_over_e7 = np.zeros((num_z, num_events))\n",
    "new_e7_over_e19 = np.zeros((num_z, num_events))\n",
    "\n",
    "# Fill them\n",
    "for z in z_to_e1_over_e7:\n",
    "    new_e1_over_e7[int(z)] = z_to_e1_over_e7[z]\n",
    "\n",
    "for z in z_to_e7_over_e19:\n",
    "    new_e7_over_e19[int(z)] = z_to_e7_over_e19[z]"
   ]
  },
  {
   "cell_type": "code",
   "execution_count": 44,
   "id": "a2e3873e",
   "metadata": {},
   "outputs": [],
   "source": [
    "Sorted_Z = sorted(z_to_e1_over_e7.keys())"
   ]
  },
  {
   "cell_type": "code",
   "execution_count": 41,
   "id": "03dbdde4",
   "metadata": {},
   "outputs": [
    {
     "data": {
      "text/plain": [
       "28"
      ]
     },
     "execution_count": 41,
     "metadata": {},
     "output_type": "execute_result"
    }
   ],
   "source": [
    "len(z_to_e1_over_e7.keys())"
   ]
  },
  {
   "cell_type": "code",
   "execution_count": 45,
   "id": "c6a28c35",
   "metadata": {},
   "outputs": [],
   "source": [
    "for z in Sorted_Z:\n",
    "    arr = z_to_e1_over_e7[z]\n",
    "    if len(arr) != 50000:\n",
    "        print(f\"Z={z} has length {len(arr)}\")"
   ]
  },
  {
   "cell_type": "code",
   "execution_count": 47,
   "id": "4293a66e",
   "metadata": {},
   "outputs": [
    {
     "data": {
      "text/plain": [
       "(50000,)"
      ]
     },
     "execution_count": 47,
     "metadata": {},
     "output_type": "execute_result"
    }
   ],
   "source": [
    "arr.shape"
   ]
  },
  {
   "cell_type": "code",
   "execution_count": 48,
   "id": "df47662d",
   "metadata": {},
   "outputs": [],
   "source": [
    "e1_over_e7_array = np.vstack([z_to_e1_over_e7[z] for z in Sorted_Z])"
   ]
  },
  {
   "cell_type": "code",
   "execution_count": 51,
   "id": "73923669",
   "metadata": {},
   "outputs": [],
   "source": [
    "e7_over_e19_array = np.vstack([z_to_e7_over_e19[z] for z in Sorted_Z])"
   ]
  },
  {
   "cell_type": "code",
   "execution_count": 50,
   "id": "357ab796",
   "metadata": {},
   "outputs": [
    {
     "data": {
      "text/plain": [
       "(28, 50000)"
      ]
     },
     "execution_count": 50,
     "metadata": {},
     "output_type": "execute_result"
    }
   ],
   "source": [
    "e1_over_e7_array.shape"
   ]
  },
  {
   "cell_type": "code",
   "execution_count": 53,
   "id": "0ae46455",
   "metadata": {},
   "outputs": [
    {
     "data": {
      "text/plain": [
       "(28, 50000)"
      ]
     },
     "execution_count": 53,
     "metadata": {},
     "output_type": "execute_result"
    }
   ],
   "source": [
    "e7_over_e19_array.shape"
   ]
  },
  {
   "cell_type": "code",
   "execution_count": 54,
   "id": "7d029c42",
   "metadata": {},
   "outputs": [],
   "source": [
    "data = np.load('rechit_energy_ratios.npz')\n",
    "\n",
    "# Load the existing 'z_energy_sum' array\n",
    "z_energy_sum = data['z_energy_sum']\n",
    "\n",
    "# Prepare new arrays to replace\n",
    "new_e1_over_e7 = e1_over_e7_array # Replace with your new array\n",
    "new_e7_over_e19 = e7_over_e19_array  # Replace with your new array\n",
    "\n",
    "# Save all arrays into a new .npz file (or overwrite the existing one)\n",
    "np.savez('rechit_energy_ratios.npz',\n",
    "         z_energy_sum=z_energy_sum,\n",
    "         e1_over_e7=new_e1_over_e7,\n",
    "         e7_over_e19=new_e7_over_e19)"
   ]
  },
  {
   "cell_type": "code",
   "execution_count": 55,
   "id": "6fba1a29",
   "metadata": {},
   "outputs": [],
   "source": [
    "data2 = np.load('rechit_energy_ratios.npz')"
   ]
  },
  {
   "cell_type": "code",
   "execution_count": 56,
   "id": "83940505",
   "metadata": {},
   "outputs": [
    {
     "data": {
      "text/plain": [
       "NpzFile 'rechit_energy_ratios.npz' with keys: z_energy_sum, e1_over_e7, e7_over_e19"
      ]
     },
     "execution_count": 56,
     "metadata": {},
     "output_type": "execute_result"
    }
   ],
   "source": [
    "data2"
   ]
  },
  {
   "cell_type": "code",
   "execution_count": 58,
   "id": "0a2bf15c",
   "metadata": {},
   "outputs": [
    {
     "data": {
      "text/plain": [
       "(28, 50000)"
      ]
     },
     "execution_count": 58,
     "metadata": {},
     "output_type": "execute_result"
    }
   ],
   "source": [
    "data2['e1_over_e7'].shape"
   ]
  }
 ],
 "metadata": {
  "kernelspec": {
   "display_name": "temporary",
   "language": "python",
   "name": "python3"
  },
  "language_info": {
   "codemirror_mode": {
    "name": "ipython",
    "version": 3
   },
   "file_extension": ".py",
   "mimetype": "text/x-python",
   "name": "python",
   "nbconvert_exporter": "python",
   "pygments_lexer": "ipython3",
   "version": "3.9.22"
  }
 },
 "nbformat": 4,
 "nbformat_minor": 5
}
