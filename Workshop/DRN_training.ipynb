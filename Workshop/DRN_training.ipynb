{
 "cells": [
  {
   "cell_type": "code",
   "execution_count": 1,
   "id": "cc8172ab",
   "metadata": {},
   "outputs": [],
   "source": [
    "import numpy as np\n",
    "import pandas as pd\n",
    "import h5py\n",
    "import matplotlib.pyplot as plt\n",
    "import awkward as ak"
   ]
  },
  {
   "cell_type": "code",
   "execution_count": 2,
   "id": "420b9bc8",
   "metadata": {},
   "outputs": [],
   "source": [
    "# Load the HDF5 file\n",
    "with h5py.File(\"hgcal_electron_data_0001.h5\", \"r\") as f:\n",
    "    nhits = f[\"nhits\"][:]               # shape: (num_events,)\n",
    "    x = f[\"rechit_x\"][:]                # shape: (total_hits,)\n",
    "    y = f[\"rechit_y\"][:]\n",
    "    z = f[\"rechit_z\"][:]\n",
    "    E = f[\"rechit_energy\"][:]\n",
    "\n",
    "# Convert nhits to integer if needed\n",
    "nhits = nhits.astype(np.int64)\n",
    "\n",
    "# Use ak.unflatten to split each feature eventwise\n",
    "events = ak.Array({\n",
    "    \"x\": ak.unflatten(x, nhits),\n",
    "    \"y\": ak.unflatten(y, nhits),\n",
    "    \"z\": ak.unflatten(z, nhits),\n",
    "    \"E\": ak.unflatten(E, nhits),\n",
    "})\n"
   ]
  },
  {
   "cell_type": "code",
   "execution_count": 3,
   "id": "3d72e813",
   "metadata": {},
   "outputs": [
    {
     "data": {
      "text/html": [
       "<pre>[{x: [-1.94, 0, ..., -4.86, -3.89], y: [1.12, ..., 5.61], z: [...], ...},\n",
       " {x: [-0.972, -0.972, ..., 1.94, 0.972], y: [2.81, ...], z: [...], E: ..., ...},\n",
       " {x: [-1.94, -2.92, ..., -3.89, -3.89], y: [2.24, ...], z: [...], E: ..., ...},\n",
       " {x: [-0.972, -1.94, ..., -1.94, 0.972], y: [1.68, ...], z: [...], E: ..., ...},\n",
       " {x: [-0.972, -1.94, ..., 0.972, 0.972], y: [0.561, ...], z: [...], ...},\n",
       " {x: [-1.94, -1.94, ..., 0.972, 5.83], y: [1.12, ...], z: [...], E: [...]},\n",
       " {x: [-1.94, -2.92, ..., 2.92, 0.972], y: [2.24, ...], z: [...], E: [...]},\n",
       " {x: [-1.94, 5.83, ..., -1.94, -2.92], y: [2.24, ...], z: [...], E: [...]},\n",
       " {x: [-0.972, -1.94, ..., 0, 0.972], y: [1.68, ..., 3.93], z: [...], ...},\n",
       " {x: [-1.94, -2.92, ..., -2.92, -3.89], y: [1.12, ...], z: [...], E: ..., ...},\n",
       " ...,\n",
       " {x: [-1.94, -1.94, ..., -1.94, -3.89], y: [2.24, ...], z: [...], E: ..., ...},\n",
       " {x: [-1.94, 0.972, ..., -2.92, 0.972], y: [2.24, ...], z: [...], E: ..., ...},\n",
       " {x: [-0.972, -0.972, ..., 0.972], y: [5.05, ...], z: [...], E: [...]},\n",
       " {x: [-0.972, -1.94, ..., -1.94, 0.972], y: [1.68, ...], z: [...], E: ..., ...},\n",
       " {x: [-1.94, -2.92, ..., -3.89, -4.86], y: [1.12, ...], z: [...], E: ..., ...},\n",
       " {x: [-1.94, -2.92, ..., -1.94, -3.89], y: [1.12, ...], z: [...], E: ..., ...},\n",
       " {x: [0, 0, -0.972, ..., 1.94, 0.972], y: [2.24, ...], z: [...], E: [...]},\n",
       " {x: [-1.94, 0, ..., -3.89, -4.86], y: [1.12, ..., 1.68], z: [...], ...},\n",
       " {x: [0, 0, -0.972, ..., -4.86, 0.972], y: [0, ..., 0.561], z: [...], ...}]\n",
       "--------------------------------------------------------------------------------\n",
       "type: 648277 * {\n",
       "    x: var * float64,\n",
       "    y: var * float64,\n",
       "    z: var * float64,\n",
       "    E: var * float64\n",
       "}</pre>"
      ],
      "text/plain": [
       "<Array [{x: [-1.94, ...], y: [...], ...}, ...] type='648277 * {x: var * flo...'>"
      ]
     },
     "execution_count": 3,
     "metadata": {},
     "output_type": "execute_result"
    }
   ],
   "source": [
    "events"
   ]
  },
  {
   "cell_type": "code",
   "execution_count": 4,
   "id": "ae27c876",
   "metadata": {},
   "outputs": [
    {
     "data": {
      "text/html": [
       "<pre>[29.8,\n",
       " 1.38,\n",
       " 5.81,\n",
       " 99.9,\n",
       " 0.767,\n",
       " 2.47,\n",
       " 2.04,\n",
       " 1.69,\n",
       " 2.73,\n",
       " 5.8,\n",
       " ...,\n",
       " 18.1,\n",
       " 3.29,\n",
       " 4.22,\n",
       " 3.44,\n",
       " 1.95,\n",
       " 1.79,\n",
       " 8.91,\n",
       " 1.41,\n",
       " 0.762]\n",
       "--------------------\n",
       "type: 1115 * float64</pre>"
      ],
      "text/plain": [
       "<Array [29.8, 1.38, 5.81, 99.9, ..., 8.91, 1.41, 0.762] type='1115 * float64'>"
      ]
     },
     "execution_count": 4,
     "metadata": {},
     "output_type": "execute_result"
    }
   ],
   "source": [
    "events[0]['E']"
   ]
  },
  {
   "cell_type": "code",
   "execution_count": 5,
   "id": "0e65f6da",
   "metadata": {},
   "outputs": [],
   "source": [
    "import pickle\n",
    "\n",
    "with open(\"events.pkl\", \"wb\") as f:\n",
    "    pickle.dump(events, f)"
   ]
  }
 ],
 "metadata": {
  "kernelspec": {
   "display_name": "Python 3",
   "language": "python",
   "name": "python3"
  },
  "language_info": {
   "codemirror_mode": {
    "name": "ipython",
    "version": 3
   },
   "file_extension": ".py",
   "mimetype": "text/x-python",
   "name": "python",
   "nbconvert_exporter": "python",
   "pygments_lexer": "ipython3",
   "version": "3.11.9"
  }
 },
 "nbformat": 4,
 "nbformat_minor": 5
}
