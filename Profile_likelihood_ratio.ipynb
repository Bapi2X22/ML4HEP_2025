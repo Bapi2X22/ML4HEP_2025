{
 "cells": [
  {
   "cell_type": "code",
   "execution_count": 8,
   "id": "a85aa5c1",
   "metadata": {},
   "outputs": [],
   "source": [
    "import numpy as np\n",
    "import matplotlib.pyplot as plt\n",
    "import math\n",
    "from scipy.special import factorial"
   ]
  },
  {
   "cell_type": "code",
   "execution_count": 34,
   "id": "a8f9274d",
   "metadata": {},
   "outputs": [],
   "source": [
    "mu = 0\n",
    "s = 3\n",
    "b = 20\n",
    "tau = 1\n",
    "N_exp = 10000\n",
    "m = b*tau\n"
   ]
  },
  {
   "cell_type": "code",
   "execution_count": 48,
   "id": "a7c79a83",
   "metadata": {},
   "outputs": [],
   "source": [
    "# mu_hat = (N_exp-b)/s\n",
    "b_hat = b*tau\n",
    "b_hat\n",
    "# mu_hat\n",
    "\n",
    "def mu_hat(n):\n",
    "    return (n - b) / s\n",
    "def b_dhat(n):\n",
    "    num = (n+m-((1+tau)*mu*s))**2+(4*(1+tau)*m*mu*s)\n",
    "    den = 4*(1+tau)**2\n",
    "    b_dhat = ((n+m-((1+tau)*mu*s))/(2*(1+tau)))+(num/den)**(1/2)\n",
    "    return b_dhat"
   ]
  },
  {
   "cell_type": "code",
   "execution_count": 49,
   "id": "cc72c8a9",
   "metadata": {},
   "outputs": [
    {
     "data": {
      "text/plain": [
       "array([18.5, 16. , 15. , ..., 19. , 20. , 18. ])"
      ]
     },
     "execution_count": 49,
     "metadata": {},
     "output_type": "execute_result"
    }
   ],
   "source": [
    "# mu_hat(samples_mu0)\n",
    "b_dhat(samples_mu0)    "
   ]
  },
  {
   "cell_type": "code",
   "execution_count": 46,
   "id": "0d05cf1c",
   "metadata": {},
   "outputs": [],
   "source": [
    "# generate poisson samples\n",
    "samples_mu0 = np.random.poisson(b, N_exp)\n",
    "samples_m = np.random.poisson(m, N_exp)"
   ]
  },
  {
   "cell_type": "code",
   "execution_count": 5,
   "id": "75bfdbb4",
   "metadata": {},
   "outputs": [
    {
     "data": {
      "text/plain": [
       "(10000,)"
      ]
     },
     "execution_count": 5,
     "metadata": {},
     "output_type": "execute_result"
    }
   ],
   "source": [
    "samples_mu0.shape\n",
    "samples_m.shape"
   ]
  },
  {
   "cell_type": "code",
   "execution_count": 17,
   "id": "546fac6b",
   "metadata": {},
   "outputs": [
    {
     "data": {
      "text/plain": [
       "array([22, 22, 23, ..., 21, 25, 27])"
      ]
     },
     "execution_count": 17,
     "metadata": {},
     "output_type": "execute_result"
    }
   ],
   "source": [
    "samples_mu0"
   ]
  },
  {
   "cell_type": "code",
   "execution_count": null,
   "id": "7db97f57",
   "metadata": {},
   "outputs": [
    {
     "data": {
      "image/png": "[encoded data removed]",
      "text/plain": [
       "<Figure size 640x480 with 1 Axes>"
      ]
     },
     "metadata": {},
     "output_type": "display_data"
    }
   ],
   "source": [
    "# Likelihood functions\n",
    "def Likelihood_b(samples, b):\n",
    "    return np.exp(-b) * (b**samples) / factorial(samples)\n",
    "\n",
    "def Likelihood_sb(samples, b, mu, s):\n",
    "    N = (mu * s) + b\n",
    "    return np.exp(-N) * (N**samples) / factorial(samples)\n",
    "\n",
    "# L0_vals = Likelihood_b(samples_mu0, b_dhat)\n",
    "# print(factorial(samples_mu0))\n",
    "\n",
    "# Log-likelihood ratio\n",
    "def log_likelihood_ratio(samples):\n",
    "    L0_vals = Likelihood_b(samples, b_dhat(samples))\n",
    "    L1_vals = Likelihood_sb(samples, b_hat, mu_hat(samples), s)\n",
    "    \n",
    "    # Avoid divide-by-zero warning\n",
    "    return np.where(L0_vals != 0, -2 * np.log(L0_vals / L1_vals), np.inf)\n",
    "\n",
    "# Compute test statistics\n",
    "llr_mu0 = log_likelihood_ratio(samples_mu0)\n",
    "llr_mu  = log_likelihood_ratio(samples_m)\n",
    "\n",
    "# print(L0_vals)\n",
    "\n",
    "# Plot distributions\n",
    "plt.hist(llr_mu0, bins=100, alpha=0.5, label='H₀: μ=0', color='blue', density=True, range=(0, 2))\n",
    "# plt.hist(llr_mu, bins=100, alpha=0.5, label='H₁: μ=μ̂', color='red', density=True, range=(0, 2))\n",
    "plt.xlabel('-2 log Λ')\n",
    "plt.ylabel('Density')\n",
    "plt.title('Log-Likelihood Ratio Distribution')\n",
    "plt.legend()\n",
    "plt.grid(True)\n",
    "plt.tight_layout()\n",
    "plt.show()"
   ]
  },
  {
   "cell_type": "code",
   "execution_count": 56,
   "id": "cf7d6426",
   "metadata": {},
   "outputs": [
    {
     "name": "stdout",
     "output_type": "stream",
     "text": [
      "Critical value at α = 0.05: 1.0956\n",
      "Power of the likelihood ratio test: 0.0331\n"
     ]
    }
   ],
   "source": [
    "# Step 1: Find critical value from H0 distribution (right tail)\n",
    "alpha = 0.05  # Significance level\n",
    "critical_value = np.percentile(llr_mu0, 100 * (1 - alpha))\n",
    "\n",
    "# Step 2: Compute power as area under H1 to the right of critical value\n",
    "power = np.mean(llr_mu > critical_value)\n",
    "\n",
    "print(f\"Critical value at α = {alpha}: {critical_value:.4f}\")\n",
    "print(f\"Power of the likelihood ratio test: {power:.4f}\")"
   ]
  }
 ],
 "metadata": {
  "kernelspec": {
   "display_name": "temporary",
   "language": "python",
   "name": "python3"
  },
  "language_info": {
   "codemirror_mode": {
    "name": "ipython",
    "version": 3
   },
   "file_extension": ".py",
   "mimetype": "text/x-python",
   "name": "python",
   "nbconvert_exporter": "python",
   "pygments_lexer": "ipython3",
   "version": "3.9.21"
  }
 },
 "nbformat": 4,
 "nbformat_minor": 5
}
